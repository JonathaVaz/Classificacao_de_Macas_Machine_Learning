{
 "cells": [
  {
   "cell_type": "markdown",
   "metadata": {},
   "source": [
    "# ***Machine Learning - Classificação de Maças***\n",
    "### **Projeto de Machine Learning para Classificação de Maças. O Projeto Consiste em uma Classificação Simples da Qualidade da Maça, se ela esta boa ou ruim (good or bad, de acordo com o arquivo)**\n",
    "### **Dados em Formato csv**\n",
    "### **Desenvolvimento no VScode, usando Python como Linguagem de Programação e Jupyter Notebook para Formato em Células**\n",
    "### **Algoritmos de Machine Learning para Solução do Projeto:**\n",
    "### **Relatório de Classificação**\n",
    "### **Principais Etapas**\n",
    "### **- EDA Análise Exploratória de Dados**\n",
    "### **- Tratamento de Dados**\n",
    "### **- Machine Learning**\n",
    "### **- Rede Neural**\n",
    "## **Jonatha Rodrigues T. Vaz**"
   ]
  },
  {
   "cell_type": "markdown",
   "metadata": {},
   "source": [
    "## **Iniciando**\n",
    "### **Importando Bibliotecas**"
   ]
  },
  {
   "cell_type": "code",
   "execution_count": 94,
   "metadata": {},
   "outputs": [],
   "source": [
    "import numpy as np # Para Álgebra Linear\n",
    "import pandas as pd # Para Processamento de Dados"
   ]
  },
  {
   "cell_type": "markdown",
   "metadata": {},
   "source": [
    "## ***Análise Exploratória de Dados - EDA | Tratamento de Dados***\n"
   ]
  },
  {
   "cell_type": "markdown",
   "metadata": {},
   "source": [
    "### **Carregando Arquivo e Visualizando as Primeiras Linhas**"
   ]
  },
  {
   "cell_type": "code",
   "execution_count": 95,
   "metadata": {},
   "outputs": [
    {
     "data": {
      "text/html": [
       "<div>\n",
       "<style scoped>\n",
       "    .dataframe tbody tr th:only-of-type {\n",
       "        vertical-align: middle;\n",
       "    }\n",
       "\n",
       "    .dataframe tbody tr th {\n",
       "        vertical-align: top;\n",
       "    }\n",
       "\n",
       "    .dataframe thead th {\n",
       "        text-align: right;\n",
       "    }\n",
       "</style>\n",
       "<table border=\"1\" class=\"dataframe\">\n",
       "  <thead>\n",
       "    <tr style=\"text-align: right;\">\n",
       "      <th></th>\n",
       "      <th>A_id</th>\n",
       "      <th>Size</th>\n",
       "      <th>Weight</th>\n",
       "      <th>Sweetness</th>\n",
       "      <th>Crunchiness</th>\n",
       "      <th>Juiciness</th>\n",
       "      <th>Ripeness</th>\n",
       "      <th>Acidity</th>\n",
       "      <th>Quality</th>\n",
       "    </tr>\n",
       "  </thead>\n",
       "  <tbody>\n",
       "    <tr>\n",
       "      <th>0</th>\n",
       "      <td>0.0</td>\n",
       "      <td>-3.970049</td>\n",
       "      <td>-2.512336</td>\n",
       "      <td>5.346330</td>\n",
       "      <td>-1.012009</td>\n",
       "      <td>1.844900</td>\n",
       "      <td>0.329840</td>\n",
       "      <td>-0.491590483</td>\n",
       "      <td>good</td>\n",
       "    </tr>\n",
       "    <tr>\n",
       "      <th>1</th>\n",
       "      <td>1.0</td>\n",
       "      <td>-1.195217</td>\n",
       "      <td>-2.839257</td>\n",
       "      <td>3.664059</td>\n",
       "      <td>1.588232</td>\n",
       "      <td>0.853286</td>\n",
       "      <td>0.867530</td>\n",
       "      <td>-0.722809367</td>\n",
       "      <td>good</td>\n",
       "    </tr>\n",
       "    <tr>\n",
       "      <th>2</th>\n",
       "      <td>2.0</td>\n",
       "      <td>-0.292024</td>\n",
       "      <td>-1.351282</td>\n",
       "      <td>-1.738429</td>\n",
       "      <td>-0.342616</td>\n",
       "      <td>2.838636</td>\n",
       "      <td>-0.038033</td>\n",
       "      <td>2.621636473</td>\n",
       "      <td>bad</td>\n",
       "    </tr>\n",
       "    <tr>\n",
       "      <th>3</th>\n",
       "      <td>3.0</td>\n",
       "      <td>-0.657196</td>\n",
       "      <td>-2.271627</td>\n",
       "      <td>1.324874</td>\n",
       "      <td>-0.097875</td>\n",
       "      <td>3.637970</td>\n",
       "      <td>-3.413761</td>\n",
       "      <td>0.790723217</td>\n",
       "      <td>good</td>\n",
       "    </tr>\n",
       "    <tr>\n",
       "      <th>4</th>\n",
       "      <td>4.0</td>\n",
       "      <td>1.364217</td>\n",
       "      <td>-1.296612</td>\n",
       "      <td>-0.384658</td>\n",
       "      <td>-0.553006</td>\n",
       "      <td>3.030874</td>\n",
       "      <td>-1.303849</td>\n",
       "      <td>0.501984036</td>\n",
       "      <td>good</td>\n",
       "    </tr>\n",
       "  </tbody>\n",
       "</table>\n",
       "</div>"
      ],
      "text/plain": [
       "   A_id      Size    Weight  Sweetness  Crunchiness  Juiciness  Ripeness  \\\n",
       "0   0.0 -3.970049 -2.512336   5.346330    -1.012009   1.844900  0.329840   \n",
       "1   1.0 -1.195217 -2.839257   3.664059     1.588232   0.853286  0.867530   \n",
       "2   2.0 -0.292024 -1.351282  -1.738429    -0.342616   2.838636 -0.038033   \n",
       "3   3.0 -0.657196 -2.271627   1.324874    -0.097875   3.637970 -3.413761   \n",
       "4   4.0  1.364217 -1.296612  -0.384658    -0.553006   3.030874 -1.303849   \n",
       "\n",
       "        Acidity Quality  \n",
       "0  -0.491590483    good  \n",
       "1  -0.722809367    good  \n",
       "2   2.621636473     bad  \n",
       "3   0.790723217    good  \n",
       "4   0.501984036    good  "
      ]
     },
     "execution_count": 95,
     "metadata": {},
     "output_type": "execute_result"
    }
   ],
   "source": [
    "data = pd.read_csv(\"apple_quality.csv\")\n",
    "\n",
    "data.head(5)"
   ]
  },
  {
   "cell_type": "markdown",
   "metadata": {},
   "source": [
    "### **Verificando Informações Gerais do Arquivo**"
   ]
  },
  {
   "cell_type": "code",
   "execution_count": 96,
   "metadata": {},
   "outputs": [
    {
     "name": "stdout",
     "output_type": "stream",
     "text": [
      "<class 'pandas.core.frame.DataFrame'>\n",
      "RangeIndex: 4001 entries, 0 to 4000\n",
      "Data columns (total 9 columns):\n",
      " #   Column       Non-Null Count  Dtype  \n",
      "---  ------       --------------  -----  \n",
      " 0   A_id         4000 non-null   float64\n",
      " 1   Size         4000 non-null   float64\n",
      " 2   Weight       4000 non-null   float64\n",
      " 3   Sweetness    4000 non-null   float64\n",
      " 4   Crunchiness  4000 non-null   float64\n",
      " 5   Juiciness    4000 non-null   float64\n",
      " 6   Ripeness     4000 non-null   float64\n",
      " 7   Acidity      4001 non-null   object \n",
      " 8   Quality      4000 non-null   object \n",
      "dtypes: float64(7), object(2)\n",
      "memory usage: 281.4+ KB\n"
     ]
    }
   ],
   "source": [
    "data.info()"
   ]
  },
  {
   "cell_type": "markdown",
   "metadata": {},
   "source": [
    "### **Verificando o Total de Valores Ausentes/Vazios de cada Coluna**"
   ]
  },
  {
   "cell_type": "code",
   "execution_count": 97,
   "metadata": {},
   "outputs": [
    {
     "data": {
      "text/plain": [
       "A_id           1\n",
       "Size           1\n",
       "Weight         1\n",
       "Sweetness      1\n",
       "Crunchiness    1\n",
       "Juiciness      1\n",
       "Ripeness       1\n",
       "Acidity        0\n",
       "Quality        1\n",
       "dtype: int64"
      ]
     },
     "execution_count": 97,
     "metadata": {},
     "output_type": "execute_result"
    }
   ],
   "source": [
    "data.isnull().sum()"
   ]
  },
  {
   "cell_type": "markdown",
   "metadata": {},
   "source": [
    "### **Apesar do Conjunto de Dados esta Apresentando muitos Valores, Vamos Verificar sua Estatística Resumida com o .describe()**"
   ]
  },
  {
   "cell_type": "code",
   "execution_count": 98,
   "metadata": {},
   "outputs": [
    {
     "data": {
      "text/html": [
       "<div>\n",
       "<style scoped>\n",
       "    .dataframe tbody tr th:only-of-type {\n",
       "        vertical-align: middle;\n",
       "    }\n",
       "\n",
       "    .dataframe tbody tr th {\n",
       "        vertical-align: top;\n",
       "    }\n",
       "\n",
       "    .dataframe thead th {\n",
       "        text-align: right;\n",
       "    }\n",
       "</style>\n",
       "<table border=\"1\" class=\"dataframe\">\n",
       "  <thead>\n",
       "    <tr style=\"text-align: right;\">\n",
       "      <th></th>\n",
       "      <th>A_id</th>\n",
       "      <th>Size</th>\n",
       "      <th>Weight</th>\n",
       "      <th>Sweetness</th>\n",
       "      <th>Crunchiness</th>\n",
       "      <th>Juiciness</th>\n",
       "      <th>Ripeness</th>\n",
       "    </tr>\n",
       "  </thead>\n",
       "  <tbody>\n",
       "    <tr>\n",
       "      <th>count</th>\n",
       "      <td>4000.000000</td>\n",
       "      <td>4000.000000</td>\n",
       "      <td>4000.000000</td>\n",
       "      <td>4000.000000</td>\n",
       "      <td>4000.000000</td>\n",
       "      <td>4000.000000</td>\n",
       "      <td>4000.000000</td>\n",
       "    </tr>\n",
       "    <tr>\n",
       "      <th>mean</th>\n",
       "      <td>1999.500000</td>\n",
       "      <td>-0.503015</td>\n",
       "      <td>-0.989547</td>\n",
       "      <td>-0.470479</td>\n",
       "      <td>0.985478</td>\n",
       "      <td>0.512118</td>\n",
       "      <td>0.498277</td>\n",
       "    </tr>\n",
       "    <tr>\n",
       "      <th>std</th>\n",
       "      <td>1154.844867</td>\n",
       "      <td>1.928059</td>\n",
       "      <td>1.602507</td>\n",
       "      <td>1.943441</td>\n",
       "      <td>1.402757</td>\n",
       "      <td>1.930286</td>\n",
       "      <td>1.874427</td>\n",
       "    </tr>\n",
       "    <tr>\n",
       "      <th>min</th>\n",
       "      <td>0.000000</td>\n",
       "      <td>-7.151703</td>\n",
       "      <td>-7.149848</td>\n",
       "      <td>-6.894485</td>\n",
       "      <td>-6.055058</td>\n",
       "      <td>-5.961897</td>\n",
       "      <td>-5.864599</td>\n",
       "    </tr>\n",
       "    <tr>\n",
       "      <th>25%</th>\n",
       "      <td>999.750000</td>\n",
       "      <td>-1.816765</td>\n",
       "      <td>-2.011770</td>\n",
       "      <td>-1.738425</td>\n",
       "      <td>0.062764</td>\n",
       "      <td>-0.801286</td>\n",
       "      <td>-0.771677</td>\n",
       "    </tr>\n",
       "    <tr>\n",
       "      <th>50%</th>\n",
       "      <td>1999.500000</td>\n",
       "      <td>-0.513703</td>\n",
       "      <td>-0.984736</td>\n",
       "      <td>-0.504758</td>\n",
       "      <td>0.998249</td>\n",
       "      <td>0.534219</td>\n",
       "      <td>0.503445</td>\n",
       "    </tr>\n",
       "    <tr>\n",
       "      <th>75%</th>\n",
       "      <td>2999.250000</td>\n",
       "      <td>0.805526</td>\n",
       "      <td>0.030976</td>\n",
       "      <td>0.801922</td>\n",
       "      <td>1.894234</td>\n",
       "      <td>1.835976</td>\n",
       "      <td>1.766212</td>\n",
       "    </tr>\n",
       "    <tr>\n",
       "      <th>max</th>\n",
       "      <td>3999.000000</td>\n",
       "      <td>6.406367</td>\n",
       "      <td>5.790714</td>\n",
       "      <td>6.374916</td>\n",
       "      <td>7.619852</td>\n",
       "      <td>7.364403</td>\n",
       "      <td>7.237837</td>\n",
       "    </tr>\n",
       "  </tbody>\n",
       "</table>\n",
       "</div>"
      ],
      "text/plain": [
       "              A_id         Size       Weight    Sweetness  Crunchiness  \\\n",
       "count  4000.000000  4000.000000  4000.000000  4000.000000  4000.000000   \n",
       "mean   1999.500000    -0.503015    -0.989547    -0.470479     0.985478   \n",
       "std    1154.844867     1.928059     1.602507     1.943441     1.402757   \n",
       "min       0.000000    -7.151703    -7.149848    -6.894485    -6.055058   \n",
       "25%     999.750000    -1.816765    -2.011770    -1.738425     0.062764   \n",
       "50%    1999.500000    -0.513703    -0.984736    -0.504758     0.998249   \n",
       "75%    2999.250000     0.805526     0.030976     0.801922     1.894234   \n",
       "max    3999.000000     6.406367     5.790714     6.374916     7.619852   \n",
       "\n",
       "         Juiciness     Ripeness  \n",
       "count  4000.000000  4000.000000  \n",
       "mean      0.512118     0.498277  \n",
       "std       1.930286     1.874427  \n",
       "min      -5.961897    -5.864599  \n",
       "25%      -0.801286    -0.771677  \n",
       "50%       0.534219     0.503445  \n",
       "75%       1.835976     1.766212  \n",
       "max       7.364403     7.237837  "
      ]
     },
     "execution_count": 98,
     "metadata": {},
     "output_type": "execute_result"
    }
   ],
   "source": [
    "data.describe()"
   ]
  },
  {
   "cell_type": "markdown",
   "metadata": {},
   "source": [
    "### **Removendo Valores Vazios/Ausentes do Conjunto de Dados, e Visualizando se ainda há valores ausentes**"
   ]
  },
  {
   "cell_type": "code",
   "execution_count": 99,
   "metadata": {},
   "outputs": [
    {
     "data": {
      "text/plain": [
       "A_id           0\n",
       "Size           0\n",
       "Weight         0\n",
       "Sweetness      0\n",
       "Crunchiness    0\n",
       "Juiciness      0\n",
       "Ripeness       0\n",
       "Acidity        0\n",
       "Quality        0\n",
       "dtype: int64"
      ]
     },
     "execution_count": 99,
     "metadata": {},
     "output_type": "execute_result"
    }
   ],
   "source": [
    "data = data.dropna()\n",
    "\n",
    "data.isnull().sum()"
   ]
  },
  {
   "cell_type": "markdown",
   "metadata": {},
   "source": [
    "### **Removendo a Coluna \"A_id\" que será Desnecessária e Irrelevante para Produção do Modelo**"
   ]
  },
  {
   "cell_type": "code",
   "execution_count": 100,
   "metadata": {},
   "outputs": [
    {
     "data": {
      "text/html": [
       "<div>\n",
       "<style scoped>\n",
       "    .dataframe tbody tr th:only-of-type {\n",
       "        vertical-align: middle;\n",
       "    }\n",
       "\n",
       "    .dataframe tbody tr th {\n",
       "        vertical-align: top;\n",
       "    }\n",
       "\n",
       "    .dataframe thead th {\n",
       "        text-align: right;\n",
       "    }\n",
       "</style>\n",
       "<table border=\"1\" class=\"dataframe\">\n",
       "  <thead>\n",
       "    <tr style=\"text-align: right;\">\n",
       "      <th></th>\n",
       "      <th>Size</th>\n",
       "      <th>Weight</th>\n",
       "      <th>Sweetness</th>\n",
       "      <th>Crunchiness</th>\n",
       "      <th>Juiciness</th>\n",
       "      <th>Ripeness</th>\n",
       "      <th>Acidity</th>\n",
       "      <th>Quality</th>\n",
       "    </tr>\n",
       "  </thead>\n",
       "  <tbody>\n",
       "    <tr>\n",
       "      <th>0</th>\n",
       "      <td>-3.970049</td>\n",
       "      <td>-2.512336</td>\n",
       "      <td>5.346330</td>\n",
       "      <td>-1.012009</td>\n",
       "      <td>1.844900</td>\n",
       "      <td>0.329840</td>\n",
       "      <td>-0.491590483</td>\n",
       "      <td>good</td>\n",
       "    </tr>\n",
       "    <tr>\n",
       "      <th>1</th>\n",
       "      <td>-1.195217</td>\n",
       "      <td>-2.839257</td>\n",
       "      <td>3.664059</td>\n",
       "      <td>1.588232</td>\n",
       "      <td>0.853286</td>\n",
       "      <td>0.867530</td>\n",
       "      <td>-0.722809367</td>\n",
       "      <td>good</td>\n",
       "    </tr>\n",
       "    <tr>\n",
       "      <th>2</th>\n",
       "      <td>-0.292024</td>\n",
       "      <td>-1.351282</td>\n",
       "      <td>-1.738429</td>\n",
       "      <td>-0.342616</td>\n",
       "      <td>2.838636</td>\n",
       "      <td>-0.038033</td>\n",
       "      <td>2.621636473</td>\n",
       "      <td>bad</td>\n",
       "    </tr>\n",
       "    <tr>\n",
       "      <th>3</th>\n",
       "      <td>-0.657196</td>\n",
       "      <td>-2.271627</td>\n",
       "      <td>1.324874</td>\n",
       "      <td>-0.097875</td>\n",
       "      <td>3.637970</td>\n",
       "      <td>-3.413761</td>\n",
       "      <td>0.790723217</td>\n",
       "      <td>good</td>\n",
       "    </tr>\n",
       "    <tr>\n",
       "      <th>4</th>\n",
       "      <td>1.364217</td>\n",
       "      <td>-1.296612</td>\n",
       "      <td>-0.384658</td>\n",
       "      <td>-0.553006</td>\n",
       "      <td>3.030874</td>\n",
       "      <td>-1.303849</td>\n",
       "      <td>0.501984036</td>\n",
       "      <td>good</td>\n",
       "    </tr>\n",
       "    <tr>\n",
       "      <th>...</th>\n",
       "      <td>...</td>\n",
       "      <td>...</td>\n",
       "      <td>...</td>\n",
       "      <td>...</td>\n",
       "      <td>...</td>\n",
       "      <td>...</td>\n",
       "      <td>...</td>\n",
       "      <td>...</td>\n",
       "    </tr>\n",
       "    <tr>\n",
       "      <th>3995</th>\n",
       "      <td>0.059386</td>\n",
       "      <td>-1.067408</td>\n",
       "      <td>-3.714549</td>\n",
       "      <td>0.473052</td>\n",
       "      <td>1.697986</td>\n",
       "      <td>2.244055</td>\n",
       "      <td>0.137784369</td>\n",
       "      <td>bad</td>\n",
       "    </tr>\n",
       "    <tr>\n",
       "      <th>3996</th>\n",
       "      <td>-0.293118</td>\n",
       "      <td>1.949253</td>\n",
       "      <td>-0.204020</td>\n",
       "      <td>-0.640196</td>\n",
       "      <td>0.024523</td>\n",
       "      <td>-1.087900</td>\n",
       "      <td>1.854235285</td>\n",
       "      <td>good</td>\n",
       "    </tr>\n",
       "    <tr>\n",
       "      <th>3997</th>\n",
       "      <td>-2.634515</td>\n",
       "      <td>-2.138247</td>\n",
       "      <td>-2.440461</td>\n",
       "      <td>0.657223</td>\n",
       "      <td>2.199709</td>\n",
       "      <td>4.763859</td>\n",
       "      <td>-1.334611391</td>\n",
       "      <td>bad</td>\n",
       "    </tr>\n",
       "    <tr>\n",
       "      <th>3998</th>\n",
       "      <td>-4.008004</td>\n",
       "      <td>-1.779337</td>\n",
       "      <td>2.366397</td>\n",
       "      <td>-0.200329</td>\n",
       "      <td>2.161435</td>\n",
       "      <td>0.214488</td>\n",
       "      <td>-2.229719806</td>\n",
       "      <td>good</td>\n",
       "    </tr>\n",
       "    <tr>\n",
       "      <th>3999</th>\n",
       "      <td>0.278540</td>\n",
       "      <td>-1.715505</td>\n",
       "      <td>0.121217</td>\n",
       "      <td>-1.154075</td>\n",
       "      <td>1.266677</td>\n",
       "      <td>-0.776571</td>\n",
       "      <td>1.599796456</td>\n",
       "      <td>good</td>\n",
       "    </tr>\n",
       "  </tbody>\n",
       "</table>\n",
       "<p>4000 rows × 8 columns</p>\n",
       "</div>"
      ],
      "text/plain": [
       "          Size    Weight  Sweetness  Crunchiness  Juiciness  Ripeness  \\\n",
       "0    -3.970049 -2.512336   5.346330    -1.012009   1.844900  0.329840   \n",
       "1    -1.195217 -2.839257   3.664059     1.588232   0.853286  0.867530   \n",
       "2    -0.292024 -1.351282  -1.738429    -0.342616   2.838636 -0.038033   \n",
       "3    -0.657196 -2.271627   1.324874    -0.097875   3.637970 -3.413761   \n",
       "4     1.364217 -1.296612  -0.384658    -0.553006   3.030874 -1.303849   \n",
       "...        ...       ...        ...          ...        ...       ...   \n",
       "3995  0.059386 -1.067408  -3.714549     0.473052   1.697986  2.244055   \n",
       "3996 -0.293118  1.949253  -0.204020    -0.640196   0.024523 -1.087900   \n",
       "3997 -2.634515 -2.138247  -2.440461     0.657223   2.199709  4.763859   \n",
       "3998 -4.008004 -1.779337   2.366397    -0.200329   2.161435  0.214488   \n",
       "3999  0.278540 -1.715505   0.121217    -1.154075   1.266677 -0.776571   \n",
       "\n",
       "           Acidity Quality  \n",
       "0     -0.491590483    good  \n",
       "1     -0.722809367    good  \n",
       "2      2.621636473     bad  \n",
       "3      0.790723217    good  \n",
       "4      0.501984036    good  \n",
       "...            ...     ...  \n",
       "3995   0.137784369     bad  \n",
       "3996   1.854235285    good  \n",
       "3997  -1.334611391     bad  \n",
       "3998  -2.229719806    good  \n",
       "3999   1.599796456    good  \n",
       "\n",
       "[4000 rows x 8 columns]"
      ]
     },
     "execution_count": 100,
     "metadata": {},
     "output_type": "execute_result"
    }
   ],
   "source": [
    "data = data.drop(\"A_id\", axis=1)\n",
    "\n",
    "data"
   ]
  },
  {
   "cell_type": "code",
   "execution_count": 101,
   "metadata": {},
   "outputs": [
    {
     "name": "stdout",
     "output_type": "stream",
     "text": [
      "<class 'pandas.core.frame.DataFrame'>\n",
      "Int64Index: 4000 entries, 0 to 3999\n",
      "Data columns (total 8 columns):\n",
      " #   Column       Non-Null Count  Dtype  \n",
      "---  ------       --------------  -----  \n",
      " 0   Size         4000 non-null   float64\n",
      " 1   Weight       4000 non-null   float64\n",
      " 2   Sweetness    4000 non-null   float64\n",
      " 3   Crunchiness  4000 non-null   float64\n",
      " 4   Juiciness    4000 non-null   float64\n",
      " 5   Ripeness     4000 non-null   float64\n",
      " 6   Acidity      4000 non-null   object \n",
      " 7   Quality      4000 non-null   object \n",
      "dtypes: float64(6), object(2)\n",
      "memory usage: 281.2+ KB\n"
     ]
    }
   ],
   "source": [
    "data.info()"
   ]
  },
  {
   "cell_type": "markdown",
   "metadata": {},
   "source": [
    "### **Verificando a Quantidade e o Tipo de Valores da Coluna \"Quality\"**\n",
    "### **\"Quality\" é a Coluna que Classifica se as Maças estão boas ou não. Coluna Target 100% Necessária e Relevante**"
   ]
  },
  {
   "cell_type": "code",
   "execution_count": 102,
   "metadata": {},
   "outputs": [
    {
     "data": {
      "text/plain": [
       "good    2004\n",
       "bad     1996\n",
       "Name: Quality, dtype: int64"
      ]
     },
     "execution_count": 102,
     "metadata": {},
     "output_type": "execute_result"
    }
   ],
   "source": [
    "data.Quality.value_counts()"
   ]
  },
  {
   "cell_type": "markdown",
   "metadata": {},
   "source": [
    "### **Verificando a Distribuição da Variável Alvo, \"Quality\"**\n",
    "### **Visualizando em Gráficos as Informações**"
   ]
  },
  {
   "cell_type": "code",
   "execution_count": 103,
   "metadata": {},
   "outputs": [],
   "source": [
    "import matplotlib.pyplot as plt  # Visualização de Dados\n",
    "import seaborn as sns  # Visualização de Dados com Métodos Estatísticos"
   ]
  },
  {
   "cell_type": "code",
   "execution_count": 104,
   "metadata": {},
   "outputs": [],
   "source": [
    "quality_clssifi = data['Quality'].value_counts().sort_index()"
   ]
  },
  {
   "cell_type": "code",
   "execution_count": 105,
   "metadata": {},
   "outputs": [
    {
     "data": {
      "text/plain": [
       "Text(0.5, 1.0, 'Percentual da Classificação\\n')"
      ]
     },
     "execution_count": 105,
     "metadata": {},
     "output_type": "execute_result"
    },
    {
     "data": {
      "image/png": "[encoded data removed]",
      "text/plain": [
       "<Figure size 1500x1100 with 2 Axes>"
      ]
     },
     "metadata": {},
     "output_type": "display_data"
    }
   ],
   "source": [
    "plt.style.use('dark_background')  # Definindo Estilo do Fundo do Gráfico\n",
    "paleta = ['deepskyblue', 'slategray']  # Definindo Paleta de Cores\n",
    "\n",
    "plt.figure(figsize=(15,11))\n",
    "plt.subplot(2, 2, 1)\n",
    "plt.title('Distribuição da Quantidade de Classificação das Maças\\n', fontsize=12, fontweight='bold', style='italic')\n",
    "sns.countplot(x=data.Quality, data=data, palette=paleta, edgecolor='white')\n",
    "plt.xlabel('Qualidade da Maça',fontweight='bold', style='italic')\n",
    "plt.ylabel('Contagem Total',fontweight='bold', style='italic')\n",
    "plt.xticks(fontweight='bold', style='italic')\n",
    "plt.yticks(fontweight='bold', style='italic')\n",
    "\n",
    "\n",
    "plt.subplot(2, 2, 2)\n",
    "plt.pie(quality_clssifi.values, labels=quality_clssifi.index, autopct='%1.1f%%', colors=['slategray', 'deepskyblue'])\n",
    "plt.title('Percentual da Classificação\\n', fontsize=12, fontweight='bold', style='italic')"
   ]
  },
  {
   "cell_type": "code",
   "execution_count": 106,
   "metadata": {},
   "outputs": [
    {
     "data": {
      "text/plain": [
       "good    2004\n",
       "bad     1996\n",
       "Name: Quality, dtype: int64"
      ]
     },
     "execution_count": 106,
     "metadata": {},
     "output_type": "execute_result"
    }
   ],
   "source": [
    "data.Quality.value_counts()"
   ]
  },
  {
   "cell_type": "markdown",
   "metadata": {},
   "source": [
    "### **Visualizando quais são Valores Únicos da Coluna \"Quality\"**"
   ]
  },
  {
   "cell_type": "code",
   "execution_count": 107,
   "metadata": {},
   "outputs": [
    {
     "data": {
      "text/plain": [
       "array(['good', 'bad'], dtype=object)"
      ]
     },
     "execution_count": 107,
     "metadata": {},
     "output_type": "execute_result"
    }
   ],
   "source": [
    "data.Quality.unique()"
   ]
  },
  {
   "cell_type": "markdown",
   "metadata": {},
   "source": [
    "### **Visualizando quais são os Valores Únicos da Coluna \"Acidity\"**"
   ]
  },
  {
   "cell_type": "code",
   "execution_count": 108,
   "metadata": {},
   "outputs": [
    {
     "data": {
      "text/plain": [
       "array(['-0.491590483', '-0.722809367', '2.621636473', ..., '-1.334611391',\n",
       "       '-2.229719806', '1.599796456'], dtype=object)"
      ]
     },
     "execution_count": 108,
     "metadata": {},
     "output_type": "execute_result"
    }
   ],
   "source": [
    "data.Acidity.unique()"
   ]
  },
  {
   "cell_type": "markdown",
   "metadata": {},
   "source": [
    "### **Alterando o Tipo da Coluna \"Acidity\" para Float (estar em tipo objeto)**"
   ]
  },
  {
   "cell_type": "code",
   "execution_count": 109,
   "metadata": {},
   "outputs": [],
   "source": [
    "data['Acidity'] = data['Acidity'].astype('float')"
   ]
  },
  {
   "cell_type": "markdown",
   "metadata": {},
   "source": [
    "### **Visualizando as Distribuições de cada Feature (Recurso/Coluna)**"
   ]
  },
  {
   "cell_type": "code",
   "execution_count": 110,
   "metadata": {},
   "outputs": [
    {
     "data": {
      "image/png": "[encoded data removed]",
      "text/plain": [
       "<Figure size 500x500 with 1 Axes>"
      ]
     },
     "metadata": {},
     "output_type": "display_data"
    },
    {
     "data": {
      "image/png": "[encoded data removed]",
      "text/plain": [
       "<Figure size 500x500 with 1 Axes>"
      ]
     },
     "metadata": {},
     "output_type": "display_data"
    },
    {
     "data": {
      "image/png": "[encoded data removed]",
      "text/plain": [
       "<Figure size 500x500 with 1 Axes>"
      ]
     },
     "metadata": {},
     "output_type": "display_data"
    },
    {
     "data": {
      "image/png": "[encoded data removed]",
      "text/plain": [
       "<Figure size 500x500 with 1 Axes>"
      ]
     },
     "metadata": {},
     "output_type": "display_data"
    },
    {
     "data": {
      "image/png": "[encoded data removed]",
      "text/plain": [
       "<Figure size 500x500 with 1 Axes>"
      ]
     },
     "metadata": {},
     "output_type": "display_data"
    },
    {
     "data": {
      "image/png": "[encoded data removed]",
      "text/plain": [
       "<Figure size 500x500 with 1 Axes>"
      ]
     },
     "metadata": {},
     "output_type": "display_data"
    },
    {
     "data": {
      "image/png": "[encoded data removed]",
      "text/plain": [
       "<Figure size 500x500 with 1 Axes>"
      ]
     },
     "metadata": {},
     "output_type": "display_data"
    }
   ],
   "source": [
    "features_columns = ['Size', 'Weight', 'Sweetness', 'Crunchiness', 'Juiciness', 'Ripeness', 'Acidity']\n",
    "\n",
    "for columns in features_columns:\n",
    "    sns.displot(x=columns, data=data, color='slategray')\n",
    "    plt.xticks(fontweight='bold', style='italic')\n",
    "    plt.yticks(fontweight='bold', style='italic')\n",
    "    plt.show()"
   ]
  },
  {
   "cell_type": "markdown",
   "metadata": {},
   "source": [
    "### **Visualizando um Mapa de Calor sobre Relações de Features por Features**"
   ]
  },
  {
   "cell_type": "code",
   "execution_count": 111,
   "metadata": {},
   "outputs": [
    {
     "data": {
      "image/png": "[encoded data removed]",
      "text/plain": [
       "<Figure size 640x480 with 2 Axes>"
      ]
     },
     "metadata": {},
     "output_type": "display_data"
    }
   ],
   "source": [
    "sns.heatmap(data.corr(numeric_only=True), vmin=-1, vmax=1, annot=True, cmap='spring')\n",
    "plt.show()"
   ]
  },
  {
   "cell_type": "markdown",
   "metadata": {},
   "source": [
    "# ***Machine Learning***\n",
    "### **Iniciando Processo de Machine Learning e Algoritmos de Predição**"
   ]
  },
  {
   "cell_type": "code",
   "execution_count": 112,
   "metadata": {},
   "outputs": [
    {
     "data": {
      "text/html": [
       "<div>\n",
       "<style scoped>\n",
       "    .dataframe tbody tr th:only-of-type {\n",
       "        vertical-align: middle;\n",
       "    }\n",
       "\n",
       "    .dataframe tbody tr th {\n",
       "        vertical-align: top;\n",
       "    }\n",
       "\n",
       "    .dataframe thead th {\n",
       "        text-align: right;\n",
       "    }\n",
       "</style>\n",
       "<table border=\"1\" class=\"dataframe\">\n",
       "  <thead>\n",
       "    <tr style=\"text-align: right;\">\n",
       "      <th></th>\n",
       "      <th>Size</th>\n",
       "      <th>Weight</th>\n",
       "      <th>Sweetness</th>\n",
       "      <th>Crunchiness</th>\n",
       "      <th>Juiciness</th>\n",
       "      <th>Ripeness</th>\n",
       "      <th>Acidity</th>\n",
       "    </tr>\n",
       "  </thead>\n",
       "  <tbody>\n",
       "    <tr>\n",
       "      <th>0</th>\n",
       "      <td>-3.970049</td>\n",
       "      <td>-2.512336</td>\n",
       "      <td>5.346330</td>\n",
       "      <td>-1.012009</td>\n",
       "      <td>1.844900</td>\n",
       "      <td>0.329840</td>\n",
       "      <td>-0.491590</td>\n",
       "    </tr>\n",
       "    <tr>\n",
       "      <th>1</th>\n",
       "      <td>-1.195217</td>\n",
       "      <td>-2.839257</td>\n",
       "      <td>3.664059</td>\n",
       "      <td>1.588232</td>\n",
       "      <td>0.853286</td>\n",
       "      <td>0.867530</td>\n",
       "      <td>-0.722809</td>\n",
       "    </tr>\n",
       "    <tr>\n",
       "      <th>2</th>\n",
       "      <td>-0.292024</td>\n",
       "      <td>-1.351282</td>\n",
       "      <td>-1.738429</td>\n",
       "      <td>-0.342616</td>\n",
       "      <td>2.838636</td>\n",
       "      <td>-0.038033</td>\n",
       "      <td>2.621636</td>\n",
       "    </tr>\n",
       "    <tr>\n",
       "      <th>3</th>\n",
       "      <td>-0.657196</td>\n",
       "      <td>-2.271627</td>\n",
       "      <td>1.324874</td>\n",
       "      <td>-0.097875</td>\n",
       "      <td>3.637970</td>\n",
       "      <td>-3.413761</td>\n",
       "      <td>0.790723</td>\n",
       "    </tr>\n",
       "    <tr>\n",
       "      <th>4</th>\n",
       "      <td>1.364217</td>\n",
       "      <td>-1.296612</td>\n",
       "      <td>-0.384658</td>\n",
       "      <td>-0.553006</td>\n",
       "      <td>3.030874</td>\n",
       "      <td>-1.303849</td>\n",
       "      <td>0.501984</td>\n",
       "    </tr>\n",
       "  </tbody>\n",
       "</table>\n",
       "</div>"
      ],
      "text/plain": [
       "       Size    Weight  Sweetness  Crunchiness  Juiciness  Ripeness   Acidity\n",
       "0 -3.970049 -2.512336   5.346330    -1.012009   1.844900  0.329840 -0.491590\n",
       "1 -1.195217 -2.839257   3.664059     1.588232   0.853286  0.867530 -0.722809\n",
       "2 -0.292024 -1.351282  -1.738429    -0.342616   2.838636 -0.038033  2.621636\n",
       "3 -0.657196 -2.271627   1.324874    -0.097875   3.637970 -3.413761  0.790723\n",
       "4  1.364217 -1.296612  -0.384658    -0.553006   3.030874 -1.303849  0.501984"
      ]
     },
     "execution_count": 112,
     "metadata": {},
     "output_type": "execute_result"
    }
   ],
   "source": [
    "# Definindo \"X\" e \"y\" para Treino e Teste do Modelo\n",
    "# Verificando com Diferentes Algoritmos para saber qual melhor se encaixa no Projeto de Acordo com sua acúracia e precisão\n",
    "\n",
    "# X será igual ao Conjunto de Dados Completo menos a Coluna \"Quality\" que será o Target ou a Coluna que Reprentará a Classificação\n",
    "\n",
    "X = data.drop('Quality', axis=1).copy()\n",
    "\n",
    "X.head()"
   ]
  },
  {
   "cell_type": "code",
   "execution_count": 113,
   "metadata": {},
   "outputs": [
    {
     "data": {
      "text/plain": [
       "0    good\n",
       "1    good\n",
       "2     bad\n",
       "3    good\n",
       "4    good\n",
       "5     bad\n",
       "6    good\n",
       "7    good\n",
       "8     bad\n",
       "9     bad\n",
       "Name: Quality, dtype: object"
      ]
     },
     "execution_count": 113,
     "metadata": {},
     "output_type": "execute_result"
    }
   ],
   "source": [
    "# \"y\" será a Coluna \"Quality\" que reprersenta o Target (Coluna para Classificação)\n",
    "\n",
    "y = data.Quality\n",
    "y[:10]"
   ]
  },
  {
   "cell_type": "markdown",
   "metadata": {},
   "source": [
    "### **Importando Bibliotecas de Machine Learning e seus Algoritmos de Predição e Aprendizado**"
   ]
  },
  {
   "cell_type": "code",
   "execution_count": 114,
   "metadata": {},
   "outputs": [],
   "source": [
    "from sklearn.model_selection import train_test_split\n",
    "from sklearn.ensemble import RandomForestClassifier\n",
    "from sklearn.metrics import accuracy_score, confusion_matrix, classification_report"
   ]
  },
  {
   "cell_type": "markdown",
   "metadata": {},
   "source": [
    "### **Definindo x de treino e teste, y de treino e teste através do train_test_split para o Modelo Classificar Corretamente**"
   ]
  },
  {
   "cell_type": "code",
   "execution_count": 115,
   "metadata": {},
   "outputs": [],
   "source": [
    "X_train, X_test, y_train, y_test = train_test_split(X, y, test_size=.3, random_state=42)"
   ]
  },
  {
   "cell_type": "markdown",
   "metadata": {},
   "source": [
    "### **Visualizando se o foi Separado Corretamente os Dados de Treino e Dados de Teste**"
   ]
  },
  {
   "cell_type": "code",
   "execution_count": 116,
   "metadata": {},
   "outputs": [
    {
     "name": "stdout",
     "output_type": "stream",
     "text": [
      "(2800, 7) \n",
      " (1200, 7) \n",
      " (2800,) \n",
      " (1200,)\n"
     ]
    }
   ],
   "source": [
    "print(X_train.shape, '\\n', X_test.shape, '\\n', y_train.shape, '\\n', y_test.shape)"
   ]
  },
  {
   "cell_type": "markdown",
   "metadata": {},
   "source": [
    "### **Definindo o Algoritmo Random Forest Classifier para Classicar os Dados e Treinando Modelo de X e y**"
   ]
  },
  {
   "cell_type": "code",
   "execution_count": 117,
   "metadata": {},
   "outputs": [],
   "source": [
    "rfc = RandomForestClassifier()"
   ]
  },
  {
   "cell_type": "code",
   "execution_count": 118,
   "metadata": {},
   "outputs": [
    {
     "data": {
      "text/html": [
       "<style>#sk-container-id-2 {color: black;background-color: white;}#sk-container-id-2 pre{padding: 0;}#sk-container-id-2 div.sk-toggleable {background-color: white;}#sk-container-id-2 label.sk-toggleable__label {cursor: pointer;display: block;width: 100%;margin-bottom: 0;padding: 0.3em;box-sizing: border-box;text-align: center;}#sk-container-id-2 label.sk-toggleable__label-arrow:before {content: \"▸\";float: left;margin-right: 0.25em;color: #696969;}#sk-container-id-2 label.sk-toggleable__label-arrow:hover:before {color: black;}#sk-container-id-2 div.sk-estimator:hover label.sk-toggleable__label-arrow:before {color: black;}#sk-container-id-2 div.sk-toggleable__content {max-height: 0;max-width: 0;overflow: hidden;text-align: left;background-color: #f0f8ff;}#sk-container-id-2 div.sk-toggleable__content pre {margin: 0.2em;color: black;border-radius: 0.25em;background-color: #f0f8ff;}#sk-container-id-2 input.sk-toggleable__control:checked~div.sk-toggleable__content {max-height: 200px;max-width: 100%;overflow: auto;}#sk-container-id-2 input.sk-toggleable__control:checked~label.sk-toggleable__label-arrow:before {content: \"▾\";}#sk-container-id-2 div.sk-estimator input.sk-toggleable__control:checked~label.sk-toggleable__label {background-color: #d4ebff;}#sk-container-id-2 div.sk-label input.sk-toggleable__control:checked~label.sk-toggleable__label {background-color: #d4ebff;}#sk-container-id-2 input.sk-hidden--visually {border: 0;clip: rect(1px 1px 1px 1px);clip: rect(1px, 1px, 1px, 1px);height: 1px;margin: -1px;overflow: hidden;padding: 0;position: absolute;width: 1px;}#sk-container-id-2 div.sk-estimator {font-family: monospace;background-color: #f0f8ff;border: 1px dotted black;border-radius: 0.25em;box-sizing: border-box;margin-bottom: 0.5em;}#sk-container-id-2 div.sk-estimator:hover {background-color: #d4ebff;}#sk-container-id-2 div.sk-parallel-item::after {content: \"\";width: 100%;border-bottom: 1px solid gray;flex-grow: 1;}#sk-container-id-2 div.sk-label:hover label.sk-toggleable__label {background-color: #d4ebff;}#sk-container-id-2 div.sk-serial::before {content: \"\";position: absolute;border-left: 1px solid gray;box-sizing: border-box;top: 0;bottom: 0;left: 50%;z-index: 0;}#sk-container-id-2 div.sk-serial {display: flex;flex-direction: column;align-items: center;background-color: white;padding-right: 0.2em;padding-left: 0.2em;position: relative;}#sk-container-id-2 div.sk-item {position: relative;z-index: 1;}#sk-container-id-2 div.sk-parallel {display: flex;align-items: stretch;justify-content: center;background-color: white;position: relative;}#sk-container-id-2 div.sk-item::before, #sk-container-id-2 div.sk-parallel-item::before {content: \"\";position: absolute;border-left: 1px solid gray;box-sizing: border-box;top: 0;bottom: 0;left: 50%;z-index: -1;}#sk-container-id-2 div.sk-parallel-item {display: flex;flex-direction: column;z-index: 1;position: relative;background-color: white;}#sk-container-id-2 div.sk-parallel-item:first-child::after {align-self: flex-end;width: 50%;}#sk-container-id-2 div.sk-parallel-item:last-child::after {align-self: flex-start;width: 50%;}#sk-container-id-2 div.sk-parallel-item:only-child::after {width: 0;}#sk-container-id-2 div.sk-dashed-wrapped {border: 1px dashed gray;margin: 0 0.4em 0.5em 0.4em;box-sizing: border-box;padding-bottom: 0.4em;background-color: white;}#sk-container-id-2 div.sk-label label {font-family: monospace;font-weight: bold;display: inline-block;line-height: 1.2em;}#sk-container-id-2 div.sk-label-container {text-align: center;}#sk-container-id-2 div.sk-container {/* jupyter's `normalize.less` sets `[hidden] { display: none; }` but bootstrap.min.css set `[hidden] { display: none !important; }` so we also need the `!important` here to be able to override the default hidden behavior on the sphinx rendered scikit-learn.org. See: https://github.com/scikit-learn/scikit-learn/issues/21755 */display: inline-block !important;position: relative;}#sk-container-id-2 div.sk-text-repr-fallback {display: none;}</style><div id=\"sk-container-id-2\" class=\"sk-top-container\"><div class=\"sk-text-repr-fallback\"><pre>RandomForestClassifier()</pre><b>In a Jupyter environment, please rerun this cell to show the HTML representation or trust the notebook. <br />On GitHub, the HTML representation is unable to render, please try loading this page with nbviewer.org.</b></div><div class=\"sk-container\" hidden><div class=\"sk-item\"><div class=\"sk-estimator sk-toggleable\"><input class=\"sk-toggleable__control sk-hidden--visually\" id=\"sk-estimator-id-2\" type=\"checkbox\" checked><label for=\"sk-estimator-id-2\" class=\"sk-toggleable__label sk-toggleable__label-arrow\">RandomForestClassifier</label><div class=\"sk-toggleable__content\"><pre>RandomForestClassifier()</pre></div></div></div></div></div>"
      ],
      "text/plain": [
       "RandomForestClassifier()"
      ]
     },
     "execution_count": 118,
     "metadata": {},
     "output_type": "execute_result"
    }
   ],
   "source": [
    "rfc.fit(X_train, y_train)"
   ]
  },
  {
   "cell_type": "markdown",
   "metadata": {},
   "source": [
    "### **Definindo a Predição dos Dados com o Algoritmo RFC com os Dados X_test e Visualizando 10 de suas Predições**"
   ]
  },
  {
   "cell_type": "code",
   "execution_count": 119,
   "metadata": {},
   "outputs": [
    {
     "data": {
      "text/plain": [
       "array(['good', 'good', 'good', 'good', 'bad', 'good', 'bad', 'bad',\n",
       "       'good', 'bad'], dtype=object)"
      ]
     },
     "execution_count": 119,
     "metadata": {},
     "output_type": "execute_result"
    }
   ],
   "source": [
    "y_pred = rfc.predict(X_test)\n",
    "y_pred[:10]"
   ]
  },
  {
   "cell_type": "markdown",
   "metadata": {},
   "source": [
    "### **Verificando a Acúracia do Algoritmo Random Forest**\n",
    "### **Verificando Resultados da Matriz de Confusão**\n",
    "### **Obtendo o Relatório Completo da Classificação, Precisão, Recall, F1-Score e Suporte**"
   ]
  },
  {
   "cell_type": "code",
   "execution_count": 120,
   "metadata": {},
   "outputs": [
    {
     "name": "stdout",
     "output_type": "stream",
     "text": [
      "A Acurácia do Modelo Algoritmo Random Forest é de: 89.25%\n"
     ]
    }
   ],
   "source": [
    "print(f\"A Acurácia do Modelo Algoritmo Random Forest é de: {accuracy_score(y_test, y_pred) * 100}%\")"
   ]
  },
  {
   "cell_type": "code",
   "execution_count": 121,
   "metadata": {},
   "outputs": [
    {
     "name": "stdout",
     "output_type": "stream",
     "text": [
      "A Matriz de Confusão do Algoritmo Random Forest Corresponde a:\n",
      " [[529  64]\n",
      " [ 65 542]]\n"
     ]
    }
   ],
   "source": [
    "print(\"A Matriz de Confusão do Algoritmo Random Forest Corresponde a:\\n\", confusion_matrix(y_test, y_pred))"
   ]
  },
  {
   "cell_type": "code",
   "execution_count": 122,
   "metadata": {},
   "outputs": [
    {
     "name": "stdout",
     "output_type": "stream",
     "text": [
      "O Relatório de Classificação \n",
      "               precision    recall  f1-score   support\n",
      "\n",
      "         bad       0.89      0.89      0.89       593\n",
      "        good       0.89      0.89      0.89       607\n",
      "\n",
      "    accuracy                           0.89      1200\n",
      "   macro avg       0.89      0.89      0.89      1200\n",
      "weighted avg       0.89      0.89      0.89      1200\n",
      "\n"
     ]
    }
   ],
   "source": [
    "print(\"O Relatório de Classificação \\n\", classification_report(y_test, y_pred))"
   ]
  },
  {
   "cell_type": "markdown",
   "metadata": {},
   "source": [
    "# ***Rede Neural***\n",
    "### **Iniciando Processo de Rede Neural com o Tensor Flow e Keras que será Necessária no Desenvolvimento Final do Projeto**"
   ]
  },
  {
   "cell_type": "markdown",
   "metadata": {},
   "source": [
    "#### **Instalando o Tensor Flow**"
   ]
  },
  {
   "cell_type": "code",
   "execution_count": 68,
   "metadata": {},
   "outputs": [
    {
     "name": "stdout",
     "output_type": "stream",
     "text": [
      "Collecting tensorflow\n",
      "  Downloading tensorflow-2.15.0-cp39-cp39-win_amd64.whl (2.1 kB)\n",
      "Collecting tensorflow-intel==2.15.0 (from tensorflow)\n",
      "  Downloading tensorflow_intel-2.15.0-cp39-cp39-win_amd64.whl (300.8 MB)\n",
      "                                              0.0/300.8 MB ? eta -:--:--\n",
      "                                             0.4/300.8 MB 11.2 MB/s eta 0:00:27\n",
      "                                             0.9/300.8 MB 10.9 MB/s eta 0:00:28\n",
      "                                             1.5/300.8 MB 10.5 MB/s eta 0:00:29\n",
      "                                             2.0/300.8 MB 10.7 MB/s eta 0:00:28\n",
      "                                             2.6/300.8 MB 11.0 MB/s eta 0:00:28\n",
      "                                             3.1/300.8 MB 11.1 MB/s eta 0:00:27\n",
      "                                             3.7/300.8 MB 11.1 MB/s eta 0:00:27\n",
      "                                             4.2/300.8 MB 11.2 MB/s eta 0:00:27\n",
      "                                             4.7/300.8 MB 11.6 MB/s eta 0:00:26\n",
      "                                             5.2/300.8 MB 11.6 MB/s eta 0:00:26\n",
      "                                             5.2/300.8 MB 11.6 MB/s eta 0:00:26\n",
      "                                             5.2/300.8 MB 11.6 MB/s eta 0:00:26\n",
      "                                             5.2/300.8 MB 11.6 MB/s eta 0:00:26\n",
      "                                             5.2/300.8 MB 11.6 MB/s eta 0:00:26\n",
      "                                             5.2/300.8 MB 11.6 MB/s eta 0:00:26\n",
      "                                              5.3/300.8 MB 7.2 MB/s eta 0:00:41\n",
      "                                              5.8/300.8 MB 7.5 MB/s eta 0:00:40\n",
      "                                              6.4/300.8 MB 7.7 MB/s eta 0:00:39\n",
      "                                              6.9/300.8 MB 7.9 MB/s eta 0:00:38\n",
      "                                              7.5/300.8 MB 8.1 MB/s eta 0:00:37\n",
      "     -                                        8.0/300.8 MB 8.2 MB/s eta 0:00:36\n",
      "     -                                        8.5/300.8 MB 8.4 MB/s eta 0:00:35\n",
      "     -                                        9.1/300.8 MB 8.5 MB/s eta 0:00:35\n",
      "     -                                        9.6/300.8 MB 8.6 MB/s eta 0:00:34\n",
      "     -                                       10.1/300.8 MB 8.7 MB/s eta 0:00:34\n",
      "     -                                       10.6/300.8 MB 9.0 MB/s eta 0:00:33\n",
      "     -                                       11.2/300.8 MB 8.8 MB/s eta 0:00:33\n",
      "     -                                       11.5/300.8 MB 9.0 MB/s eta 0:00:33\n",
      "     -                                       12.0/300.8 MB 8.6 MB/s eta 0:00:34\n",
      "     -                                       12.5/300.8 MB 8.6 MB/s eta 0:00:34\n",
      "     -                                       13.0/300.8 MB 8.7 MB/s eta 0:00:33\n",
      "     -                                       13.6/300.8 MB 8.7 MB/s eta 0:00:33\n",
      "     -                                       13.6/300.8 MB 8.6 MB/s eta 0:00:34\n",
      "     -                                       13.6/300.8 MB 8.6 MB/s eta 0:00:34\n",
      "     -                                       13.6/300.8 MB 8.6 MB/s eta 0:00:34\n",
      "     -                                       13.6/300.8 MB 8.6 MB/s eta 0:00:34\n",
      "     -                                       13.6/300.8 MB 8.6 MB/s eta 0:00:34\n",
      "     -                                       13.6/300.8 MB 8.6 MB/s eta 0:00:34\n",
      "     -                                       13.7/300.8 MB 6.9 MB/s eta 0:00:42\n",
      "     -                                       14.2/300.8 MB 6.9 MB/s eta 0:00:42\n",
      "     -                                       14.8/300.8 MB 6.8 MB/s eta 0:00:42\n",
      "     -                                       15.3/300.8 MB 6.8 MB/s eta 0:00:42\n",
      "     --                                      15.9/300.8 MB 8.4 MB/s eta 0:00:34\n",
      "     --                                      16.4/300.8 MB 8.4 MB/s eta 0:00:34\n",
      "     --                                      16.9/300.8 MB 8.4 MB/s eta 0:00:34\n",
      "     --                                      17.5/300.8 MB 8.4 MB/s eta 0:00:34\n",
      "     --                                      18.0/300.8 MB 8.4 MB/s eta 0:00:34\n",
      "     --                                      18.5/300.8 MB 8.4 MB/s eta 0:00:34\n",
      "     --                                      19.1/300.8 MB 8.4 MB/s eta 0:00:34\n",
      "     --                                      19.6/300.8 MB 8.4 MB/s eta 0:00:34\n",
      "     --                                      20.2/300.8 MB 8.4 MB/s eta 0:00:34\n",
      "     --                                      20.7/300.8 MB 8.4 MB/s eta 0:00:34\n",
      "     --                                      21.2/300.8 MB 8.4 MB/s eta 0:00:34\n",
      "     --                                      21.8/300.8 MB 8.5 MB/s eta 0:00:33\n",
      "     --                                      22.0/300.8 MB 8.6 MB/s eta 0:00:33\n",
      "     --                                      22.0/300.8 MB 8.6 MB/s eta 0:00:33\n",
      "     --                                      22.0/300.8 MB 8.6 MB/s eta 0:00:33\n",
      "     --                                      22.0/300.8 MB 8.6 MB/s eta 0:00:33\n",
      "     --                                      22.0/300.8 MB 8.6 MB/s eta 0:00:33\n",
      "     --                                      22.0/300.8 MB 8.6 MB/s eta 0:00:33\n",
      "     --                                      22.0/300.8 MB 8.6 MB/s eta 0:00:33\n",
      "     --                                      22.5/300.8 MB 6.7 MB/s eta 0:00:42\n",
      "     --                                      23.0/300.8 MB 6.7 MB/s eta 0:00:42\n",
      "     ---                                     23.6/300.8 MB 6.7 MB/s eta 0:00:42\n",
      "     ---                                     24.2/300.8 MB 8.6 MB/s eta 0:00:33\n",
      "     ---                                     24.7/300.8 MB 8.6 MB/s eta 0:00:33\n",
      "     ---                                     25.2/300.8 MB 8.6 MB/s eta 0:00:32\n",
      "     ---                                     25.8/300.8 MB 8.6 MB/s eta 0:00:32\n",
      "     ---                                     26.3/300.8 MB 8.6 MB/s eta 0:00:32\n",
      "     ---                                     26.9/300.8 MB 8.5 MB/s eta 0:00:33\n",
      "     ---                                     27.4/300.8 MB 8.5 MB/s eta 0:00:33\n",
      "     ---                                     27.9/300.8 MB 8.5 MB/s eta 0:00:33\n",
      "     ---                                     28.3/300.8 MB 8.5 MB/s eta 0:00:33\n",
      "     ---                                     28.5/300.8 MB 8.3 MB/s eta 0:00:33\n",
      "     ---                                     29.0/300.8 MB 8.3 MB/s eta 0:00:33\n",
      "     ---                                     29.5/300.8 MB 8.3 MB/s eta 0:00:33\n",
      "     ---                                     30.1/300.8 MB 8.3 MB/s eta 0:00:33\n",
      "     ---                                     30.6/300.8 MB 8.3 MB/s eta 0:00:33\n",
      "     ----                                    31.1/300.8 MB 8.3 MB/s eta 0:00:33\n",
      "     ----                                    31.5/300.8 MB 8.3 MB/s eta 0:00:33\n",
      "     ----                                    31.9/300.8 MB 8.1 MB/s eta 0:00:34\n",
      "     ----                                   32.5/300.8 MB 10.7 MB/s eta 0:00:25\n",
      "     ----                                   33.0/300.8 MB 10.7 MB/s eta 0:00:25\n",
      "     ----                                   33.5/300.8 MB 10.7 MB/s eta 0:00:25\n",
      "     ----                                   34.1/300.8 MB 10.9 MB/s eta 0:00:25\n",
      "     ----                                   34.6/300.8 MB 10.7 MB/s eta 0:00:25\n",
      "     ----                                   35.2/300.8 MB 10.7 MB/s eta 0:00:25\n",
      "     ----                                   35.6/300.8 MB 10.9 MB/s eta 0:00:25\n",
      "     ----                                   35.6/300.8 MB 10.9 MB/s eta 0:00:25\n",
      "     ----                                   35.6/300.8 MB 10.9 MB/s eta 0:00:25\n",
      "     ----                                   35.6/300.8 MB 10.9 MB/s eta 0:00:25\n",
      "     ----                                   35.6/300.8 MB 10.9 MB/s eta 0:00:25\n",
      "     ----                                   35.6/300.8 MB 10.9 MB/s eta 0:00:25\n",
      "     ----                                    36.1/300.8 MB 8.5 MB/s eta 0:00:32\n",
      "     ----                                    36.6/300.8 MB 8.5 MB/s eta 0:00:32\n",
      "     ----                                    37.2/300.8 MB 8.5 MB/s eta 0:00:31\n",
      "     ----                                    37.7/300.8 MB 8.6 MB/s eta 0:00:31\n",
      "     ----                                    38.3/300.8 MB 8.6 MB/s eta 0:00:31\n",
      "     -----                                   38.8/300.8 MB 9.0 MB/s eta 0:00:30\n",
      "     -----                                   39.4/300.8 MB 9.0 MB/s eta 0:00:30\n",
      "     -----                                   39.9/300.8 MB 9.0 MB/s eta 0:00:30\n",
      "     -----                                   40.4/300.8 MB 9.0 MB/s eta 0:00:30\n",
      "     -----                                   41.0/300.8 MB 9.0 MB/s eta 0:00:29\n",
      "     -----                                   41.5/300.8 MB 9.0 MB/s eta 0:00:29\n",
      "     -----                                   42.1/300.8 MB 9.2 MB/s eta 0:00:29\n",
      "     -----                                   42.6/300.8 MB 9.1 MB/s eta 0:00:29\n",
      "     -----                                   43.2/300.8 MB 9.1 MB/s eta 0:00:29\n",
      "     -----                                   43.7/300.8 MB 9.1 MB/s eta 0:00:29\n",
      "     -----                                   44.2/300.8 MB 9.1 MB/s eta 0:00:29\n",
      "     -----                                   44.7/300.8 MB 9.1 MB/s eta 0:00:29\n",
      "     -----                                   45.3/300.8 MB 9.1 MB/s eta 0:00:29\n",
      "     -----                                   45.9/300.8 MB 9.1 MB/s eta 0:00:29\n",
      "     -----                                  46.1/300.8 MB 11.7 MB/s eta 0:00:22\n",
      "     -----                                  46.1/300.8 MB 11.7 MB/s eta 0:00:22\n",
      "     -----                                  46.1/300.8 MB 11.7 MB/s eta 0:00:22\n",
      "     -----                                  46.1/300.8 MB 11.7 MB/s eta 0:00:22\n",
      "     -----                                  46.1/300.8 MB 11.7 MB/s eta 0:00:22\n",
      "     -----                                  46.1/300.8 MB 11.7 MB/s eta 0:00:22\n",
      "     -----                                  46.1/300.8 MB 11.7 MB/s eta 0:00:22\n",
      "     -----                                  46.1/300.8 MB 11.7 MB/s eta 0:00:22\n",
      "     -----                                  46.1/300.8 MB 11.7 MB/s eta 0:00:22\n",
      "     -----                                  46.1/300.8 MB 11.7 MB/s eta 0:00:22\n",
      "     -----                                  46.1/300.8 MB 11.7 MB/s eta 0:00:22\n",
      "     -----                                  46.1/300.8 MB 11.7 MB/s eta 0:00:22\n",
      "     -----                                  46.1/300.8 MB 11.7 MB/s eta 0:00:22\n",
      "     -----                                  46.1/300.8 MB 11.7 MB/s eta 0:00:22\n",
      "     -----                                  46.1/300.8 MB 11.7 MB/s eta 0:00:22\n",
      "     -----                                  46.1/300.8 MB 11.7 MB/s eta 0:00:22\n",
      "     -----                                  46.1/300.8 MB 11.7 MB/s eta 0:00:22\n",
      "     -----                                  46.1/300.8 MB 11.7 MB/s eta 0:00:22\n",
      "     -----                                  46.1/300.8 MB 11.7 MB/s eta 0:00:22\n",
      "     -----                                  46.1/300.8 MB 11.7 MB/s eta 0:00:22\n",
      "     ------                                  46.5/300.8 MB 5.7 MB/s eta 0:00:45\n",
      "     ------                                  47.0/300.8 MB 5.6 MB/s eta 0:00:45\n",
      "     ------                                  47.6/300.8 MB 5.7 MB/s eta 0:00:45\n",
      "     ------                                  48.1/300.8 MB 5.7 MB/s eta 0:00:45\n",
      "     ------                                  48.7/300.8 MB 5.6 MB/s eta 0:00:45\n",
      "     ------                                  49.1/300.8 MB 5.6 MB/s eta 0:00:45\n",
      "     ------                                  49.8/300.8 MB 5.6 MB/s eta 0:00:45\n",
      "     ------                                  50.3/300.8 MB 5.6 MB/s eta 0:00:45\n",
      "     ------                                  50.8/300.8 MB 5.7 MB/s eta 0:00:44\n",
      "     ------                                  51.4/300.8 MB 5.7 MB/s eta 0:00:44\n",
      "     ------                                  51.9/300.8 MB 5.7 MB/s eta 0:00:44\n",
      "     ------                                  52.4/300.8 MB 5.7 MB/s eta 0:00:44\n",
      "     ------                                  52.9/300.8 MB 5.7 MB/s eta 0:00:44\n",
      "     ------                                  53.4/300.8 MB 5.7 MB/s eta 0:00:44\n",
      "     ------                                  54.0/300.8 MB 5.6 MB/s eta 0:00:44\n",
      "     -------                                 54.5/300.8 MB 5.6 MB/s eta 0:00:44\n",
      "     -------                                 55.0/300.8 MB 5.6 MB/s eta 0:00:44\n",
      "     -------                                 55.6/300.8 MB 5.6 MB/s eta 0:00:44\n",
      "     -------                                 56.1/300.8 MB 5.6 MB/s eta 0:00:44\n",
      "     -------                                56.6/300.8 MB 11.5 MB/s eta 0:00:22\n",
      "     -------                                57.2/300.8 MB 11.5 MB/s eta 0:00:22\n",
      "     -------                                57.7/300.8 MB 11.5 MB/s eta 0:00:22\n",
      "     -------                                58.3/300.8 MB 11.5 MB/s eta 0:00:22\n",
      "     -------                                58.8/300.8 MB 11.5 MB/s eta 0:00:22\n",
      "     -------                                59.3/300.8 MB 11.7 MB/s eta 0:00:21\n",
      "     -------                                59.9/300.8 MB 11.7 MB/s eta 0:00:21\n",
      "     -------                                60.4/300.8 MB 11.5 MB/s eta 0:00:21\n",
      "     -------                                60.8/300.8 MB 11.5 MB/s eta 0:00:21\n",
      "     -------                                60.9/300.8 MB 11.1 MB/s eta 0:00:22\n",
      "     -------                                61.5/300.8 MB 11.1 MB/s eta 0:00:22\n",
      "     -------                                62.0/300.8 MB 11.1 MB/s eta 0:00:22\n",
      "     -------                                62.6/300.8 MB 11.1 MB/s eta 0:00:22\n",
      "     -------                                62.9/300.8 MB 11.1 MB/s eta 0:00:22\n",
      "     -------                                62.9/300.8 MB 11.1 MB/s eta 0:00:22\n",
      "     -------                                62.9/300.8 MB 11.1 MB/s eta 0:00:22\n",
      "     --------                                63.1/300.8 MB 9.6 MB/s eta 0:00:25\n",
      "     --------                                63.7/300.8 MB 9.6 MB/s eta 0:00:25\n",
      "     --------                                64.2/300.8 MB 9.6 MB/s eta 0:00:25\n",
      "     --------                                64.7/300.8 MB 9.6 MB/s eta 0:00:25\n",
      "     --------                                65.3/300.8 MB 9.6 MB/s eta 0:00:25\n",
      "     --------                                65.8/300.8 MB 9.6 MB/s eta 0:00:25\n",
      "     --------                                66.4/300.8 MB 9.6 MB/s eta 0:00:25\n",
      "     --------                                66.9/300.8 MB 9.6 MB/s eta 0:00:25\n",
      "     --------                                67.4/300.8 MB 9.6 MB/s eta 0:00:25\n",
      "     --------                                68.0/300.8 MB 9.6 MB/s eta 0:00:25\n",
      "     --------                                68.5/300.8 MB 9.6 MB/s eta 0:00:25\n",
      "     --------                                69.1/300.8 MB 9.6 MB/s eta 0:00:25\n",
      "     ---------                               69.6/300.8 MB 9.6 MB/s eta 0:00:25\n",
      "     ---------                               70.1/300.8 MB 9.6 MB/s eta 0:00:24\n",
      "     ---------                               70.7/300.8 MB 9.6 MB/s eta 0:00:24\n",
      "     --------                               71.2/300.8 MB 10.1 MB/s eta 0:00:23\n",
      "     ---------                              71.8/300.8 MB 10.1 MB/s eta 0:00:23\n",
      "     ---------                              72.3/300.8 MB 10.1 MB/s eta 0:00:23\n",
      "     ---------                              72.8/300.8 MB 10.2 MB/s eta 0:00:23\n",
      "     ---------                              73.4/300.8 MB 11.7 MB/s eta 0:00:20\n",
      "     ---------                              73.9/300.8 MB 11.7 MB/s eta 0:00:20\n",
      "     ---------                              74.4/300.8 MB 11.7 MB/s eta 0:00:20\n",
      "     ---------                              75.0/300.8 MB 11.7 MB/s eta 0:00:20\n",
      "     ---------                              75.5/300.8 MB 11.7 MB/s eta 0:00:20\n",
      "     ---------                              76.1/300.8 MB 11.7 MB/s eta 0:00:20\n",
      "     ---------                              76.6/300.8 MB 11.7 MB/s eta 0:00:20\n",
      "     ---------                              77.1/300.8 MB 11.7 MB/s eta 0:00:20\n",
      "     ---------                              77.7/300.8 MB 11.7 MB/s eta 0:00:20\n",
      "     ---------                              78.2/300.8 MB 11.7 MB/s eta 0:00:20\n",
      "     ---------                              78.8/300.8 MB 11.7 MB/s eta 0:00:19\n",
      "     ----------                             79.3/300.8 MB 11.7 MB/s eta 0:00:19\n",
      "     ----------                             79.8/300.8 MB 11.7 MB/s eta 0:00:19\n",
      "     ----------                             80.4/300.8 MB 11.7 MB/s eta 0:00:19\n",
      "     ----------                             80.7/300.8 MB 11.7 MB/s eta 0:00:19\n",
      "     ----------                             81.0/300.8 MB 11.1 MB/s eta 0:00:20\n",
      "     ----------                             81.6/300.8 MB 11.1 MB/s eta 0:00:20\n",
      "     ----------                             81.8/300.8 MB 11.3 MB/s eta 0:00:20\n",
      "     ----------                             81.8/300.8 MB 11.3 MB/s eta 0:00:20\n",
      "     ----------                             81.8/300.8 MB 11.3 MB/s eta 0:00:20\n",
      "     ----------                             81.8/300.8 MB 11.3 MB/s eta 0:00:20\n",
      "     ----------                             81.8/300.8 MB 11.3 MB/s eta 0:00:20\n",
      "     ----------                              82.1/300.8 MB 9.0 MB/s eta 0:00:25\n",
      "     ----------                              82.7/300.8 MB 9.0 MB/s eta 0:00:25\n",
      "     ----------                              83.2/300.8 MB 9.0 MB/s eta 0:00:25\n",
      "     ----------                              83.7/300.8 MB 9.0 MB/s eta 0:00:25\n",
      "     ----------                              84.3/300.8 MB 9.0 MB/s eta 0:00:25\n",
      "     ----------                              84.8/300.8 MB 9.0 MB/s eta 0:00:25\n",
      "     -----------                             85.3/300.8 MB 9.0 MB/s eta 0:00:25\n",
      "     -----------                             85.9/300.8 MB 9.0 MB/s eta 0:00:24\n",
      "     -----------                             86.4/300.8 MB 9.0 MB/s eta 0:00:24\n",
      "     -----------                             87.0/300.8 MB 9.0 MB/s eta 0:00:24\n",
      "     -----------                             87.5/300.8 MB 9.0 MB/s eta 0:00:24\n",
      "     -----------                             88.0/300.8 MB 9.0 MB/s eta 0:00:24\n",
      "     -----------                             88.5/300.8 MB 9.0 MB/s eta 0:00:24\n",
      "     -----------                             89.1/300.8 MB 9.0 MB/s eta 0:00:24\n",
      "     -----------                             89.6/300.8 MB 9.0 MB/s eta 0:00:24\n",
      "     -----------                             90.2/300.8 MB 9.0 MB/s eta 0:00:24\n",
      "     -----------                             90.7/300.8 MB 9.0 MB/s eta 0:00:24\n",
      "     -----------                             91.3/300.8 MB 9.4 MB/s eta 0:00:23\n",
      "     -----------                             91.8/300.8 MB 9.4 MB/s eta 0:00:23\n",
      "     -----------                            92.3/300.8 MB 11.7 MB/s eta 0:00:18\n",
      "     -----------                            92.5/300.8 MB 11.3 MB/s eta 0:00:19\n",
      "     -----------                            93.0/300.8 MB 11.3 MB/s eta 0:00:19\n",
      "     -----------                            93.6/300.8 MB 11.3 MB/s eta 0:00:19\n",
      "     -----------                            94.1/300.8 MB 11.3 MB/s eta 0:00:19\n",
      "     -----------                            94.6/300.8 MB 11.3 MB/s eta 0:00:19\n",
      "     ------------                           95.2/300.8 MB 11.3 MB/s eta 0:00:19\n",
      "     ------------                           95.7/300.8 MB 11.3 MB/s eta 0:00:19\n",
      "     ------------                           96.3/300.8 MB 11.3 MB/s eta 0:00:19\n",
      "     ------------                           96.8/300.8 MB 11.3 MB/s eta 0:00:19\n",
      "     ------------                           97.4/300.8 MB 11.3 MB/s eta 0:00:19\n",
      "     ------------                           97.9/300.8 MB 11.3 MB/s eta 0:00:18\n",
      "     ------------                           98.4/300.8 MB 11.3 MB/s eta 0:00:18\n",
      "     ------------                           99.0/300.8 MB 11.3 MB/s eta 0:00:18\n",
      "     ------------                           99.5/300.8 MB 11.1 MB/s eta 0:00:19\n",
      "     ------------                          100.0/300.8 MB 11.1 MB/s eta 0:00:19\n",
      "     ------------                          100.6/300.8 MB 11.1 MB/s eta 0:00:19\n",
      "     ------------                          100.7/300.8 MB 11.3 MB/s eta 0:00:18\n",
      "     ------------                          100.7/300.8 MB 11.3 MB/s eta 0:00:18\n",
      "     ------------                          100.7/300.8 MB 11.3 MB/s eta 0:00:18\n",
      "     ------------                          100.7/300.8 MB 11.3 MB/s eta 0:00:18\n",
      "     ------------                          100.7/300.8 MB 11.3 MB/s eta 0:00:18\n",
      "     ------------                          100.7/300.8 MB 11.3 MB/s eta 0:00:18\n",
      "     ------------                           100.8/300.8 MB 8.5 MB/s eta 0:00:24\n",
      "     ------------                           101.3/300.8 MB 8.4 MB/s eta 0:00:24\n",
      "     ------------                           101.9/300.8 MB 8.5 MB/s eta 0:00:24\n",
      "     ------------                           102.4/300.8 MB 8.4 MB/s eta 0:00:24\n",
      "     -------------                          102.9/300.8 MB 8.6 MB/s eta 0:00:23\n",
      "     -------------                          103.5/300.8 MB 8.6 MB/s eta 0:00:23\n",
      "     -------------                          104.0/300.8 MB 8.6 MB/s eta 0:00:23\n",
      "     -------------                          104.6/300.8 MB 8.6 MB/s eta 0:00:23\n",
      "     -------------                          104.9/300.8 MB 8.5 MB/s eta 0:00:24\n",
      "     -------------                          105.5/300.8 MB 8.6 MB/s eta 0:00:23\n",
      "     -------------                          106.0/300.8 MB 8.5 MB/s eta 0:00:23\n",
      "     -------------                          106.6/300.8 MB 8.5 MB/s eta 0:00:23\n",
      "     -------------                          107.1/300.8 MB 8.5 MB/s eta 0:00:23\n",
      "     -------------                          107.6/300.8 MB 8.5 MB/s eta 0:00:23\n",
      "     -------------                          108.2/300.8 MB 8.5 MB/s eta 0:00:23\n",
      "     -------------                          108.7/300.8 MB 8.5 MB/s eta 0:00:23\n",
      "     -------------                          109.3/300.8 MB 8.5 MB/s eta 0:00:23\n",
      "     -------------                          109.8/300.8 MB 8.5 MB/s eta 0:00:23\n",
      "     -------------                          110.4/300.8 MB 8.5 MB/s eta 0:00:23\n",
      "     -------------                         110.9/300.8 MB 11.5 MB/s eta 0:00:17\n",
      "     -------------                         111.4/300.8 MB 11.7 MB/s eta 0:00:17\n",
      "     -------------                         111.9/300.8 MB 11.5 MB/s eta 0:00:17\n",
      "     -------------                         112.5/300.8 MB 11.7 MB/s eta 0:00:17\n",
      "     -------------                         113.0/300.8 MB 11.5 MB/s eta 0:00:17\n",
      "     -------------                         113.6/300.8 MB 11.5 MB/s eta 0:00:17\n",
      "     --------------                        114.1/300.8 MB 11.5 MB/s eta 0:00:17\n",
      "     --------------                        114.3/300.8 MB 11.5 MB/s eta 0:00:17\n",
      "     --------------                        114.3/300.8 MB 11.5 MB/s eta 0:00:17\n",
      "     --------------                        114.3/300.8 MB 11.5 MB/s eta 0:00:17\n",
      "     --------------                        114.3/300.8 MB 11.5 MB/s eta 0:00:17\n",
      "     --------------                        114.3/300.8 MB 11.5 MB/s eta 0:00:17\n",
      "     --------------                        114.3/300.8 MB 11.5 MB/s eta 0:00:17\n",
      "     --------------                         114.6/300.8 MB 8.7 MB/s eta 0:00:22\n",
      "     --------------                         115.1/300.8 MB 8.8 MB/s eta 0:00:21\n",
      "     --------------                         115.3/300.8 MB 8.8 MB/s eta 0:00:21\n",
      "     --------------                         115.7/300.8 MB 8.5 MB/s eta 0:00:22\n",
      "     --------------                         116.2/300.8 MB 8.5 MB/s eta 0:00:22\n",
      "     --------------                         116.8/300.8 MB 8.5 MB/s eta 0:00:22\n",
      "     --------------                         117.3/300.8 MB 8.5 MB/s eta 0:00:22\n",
      "     --------------                         117.9/300.8 MB 8.5 MB/s eta 0:00:22\n",
      "     --------------                         118.4/300.8 MB 8.5 MB/s eta 0:00:22\n",
      "     ---------------                        118.9/300.8 MB 8.4 MB/s eta 0:00:22\n",
      "     ---------------                        119.5/300.8 MB 8.4 MB/s eta 0:00:22\n",
      "     ---------------                        120.0/300.8 MB 8.4 MB/s eta 0:00:22\n",
      "     ---------------                        120.6/300.8 MB 8.4 MB/s eta 0:00:22\n",
      "     ---------------                        121.1/300.8 MB 8.5 MB/s eta 0:00:22\n",
      "     ---------------                        121.6/300.8 MB 8.5 MB/s eta 0:00:22\n",
      "     ---------------                        122.2/300.8 MB 8.6 MB/s eta 0:00:21\n",
      "     ---------------                        122.7/300.8 MB 8.5 MB/s eta 0:00:21\n",
      "     ---------------                        123.2/300.8 MB 8.5 MB/s eta 0:00:21\n",
      "     ---------------                        123.8/300.8 MB 8.5 MB/s eta 0:00:21\n",
      "     ---------------                        124.3/300.8 MB 8.5 MB/s eta 0:00:21\n",
      "     ---------------                       124.8/300.8 MB 11.1 MB/s eta 0:00:16\n",
      "     ---------------                       125.4/300.8 MB 11.1 MB/s eta 0:00:16\n",
      "     ---------------                       125.9/300.8 MB 11.7 MB/s eta 0:00:15\n",
      "     ---------------                       126.5/300.8 MB 11.7 MB/s eta 0:00:15\n",
      "     ---------------                       127.0/300.8 MB 11.7 MB/s eta 0:00:15\n",
      "     ---------------                       127.5/300.8 MB 11.7 MB/s eta 0:00:15\n",
      "     ---------------                       127.9/300.8 MB 11.7 MB/s eta 0:00:15\n",
      "     ---------------                       127.9/300.8 MB 11.7 MB/s eta 0:00:15\n",
      "     ---------------                       127.9/300.8 MB 11.7 MB/s eta 0:00:15\n",
      "     ---------------                       128.2/300.8 MB 10.1 MB/s eta 0:00:18\n",
      "     ---------------                       128.7/300.8 MB 10.1 MB/s eta 0:00:18\n",
      "     ---------------                       129.3/300.8 MB 10.1 MB/s eta 0:00:18\n",
      "     ---------------                       129.8/300.8 MB 10.1 MB/s eta 0:00:17\n",
      "     ----------------                      130.4/300.8 MB 10.1 MB/s eta 0:00:17\n",
      "     ----------------                      130.9/300.8 MB 10.1 MB/s eta 0:00:17\n",
      "     ----------------                      131.4/300.8 MB 10.1 MB/s eta 0:00:17\n",
      "     ----------------                      132.0/300.8 MB 10.2 MB/s eta 0:00:17\n",
      "     ----------------                      132.5/300.8 MB 10.2 MB/s eta 0:00:17\n",
      "     ----------------                      133.0/300.8 MB 10.2 MB/s eta 0:00:17\n",
      "     ----------------                      133.6/300.8 MB 10.2 MB/s eta 0:00:17\n",
      "     ----------------                      134.1/300.8 MB 10.2 MB/s eta 0:00:17\n",
      "     ----------------                      134.7/300.8 MB 10.2 MB/s eta 0:00:17\n",
      "     ----------------                      135.2/300.8 MB 10.2 MB/s eta 0:00:17\n",
      "     ----------------                      135.7/300.8 MB 10.2 MB/s eta 0:00:17\n",
      "     ----------------                      136.3/300.8 MB 10.2 MB/s eta 0:00:17\n",
      "     ----------------                      136.8/300.8 MB 10.2 MB/s eta 0:00:17\n",
      "     ----------------                      137.4/300.8 MB 10.2 MB/s eta 0:00:16\n",
      "     ----------------                      137.4/300.8 MB 10.2 MB/s eta 0:00:16\n",
      "     ----------------                      137.4/300.8 MB 10.2 MB/s eta 0:00:16\n",
      "     ----------------                      137.4/300.8 MB 10.2 MB/s eta 0:00:16\n",
      "     ----------------                      137.4/300.8 MB 10.2 MB/s eta 0:00:16\n",
      "     -----------------                      137.8/300.8 MB 8.5 MB/s eta 0:00:20\n",
      "     -----------------                      138.3/300.8 MB 9.5 MB/s eta 0:00:18\n",
      "     -----------------                      138.9/300.8 MB 9.5 MB/s eta 0:00:18\n",
      "     -----------------                      139.4/300.8 MB 9.5 MB/s eta 0:00:18\n",
      "     -----------------                      139.5/300.8 MB 9.6 MB/s eta 0:00:17\n",
      "     -----------------                      140.0/300.8 MB 9.1 MB/s eta 0:00:18\n",
      "     -----------------                      140.5/300.8 MB 9.1 MB/s eta 0:00:18\n",
      "     -----------------                      141.0/300.8 MB 9.1 MB/s eta 0:00:18\n",
      "     -----------------                      141.5/300.8 MB 9.1 MB/s eta 0:00:18\n",
      "     -----------------                      142.1/300.8 MB 9.1 MB/s eta 0:00:18\n",
      "     ------------------                     142.6/300.8 MB 9.1 MB/s eta 0:00:18\n",
      "     ------------------                     143.2/300.8 MB 9.2 MB/s eta 0:00:18\n",
      "     ------------------                     143.7/300.8 MB 9.2 MB/s eta 0:00:18\n",
      "     ------------------                     144.3/300.8 MB 9.2 MB/s eta 0:00:17\n",
      "     ------------------                     144.8/300.8 MB 9.2 MB/s eta 0:00:17\n",
      "     ------------------                     145.3/300.8 MB 9.2 MB/s eta 0:00:17\n",
      "     ------------------                     145.9/300.8 MB 9.2 MB/s eta 0:00:17\n",
      "     ------------------                     146.4/300.8 MB 9.2 MB/s eta 0:00:17\n",
      "     ------------------                     147.0/300.8 MB 9.2 MB/s eta 0:00:17\n",
      "     ------------------                     147.5/300.8 MB 9.2 MB/s eta 0:00:17\n",
      "     ------------------                    148.0/300.8 MB 11.1 MB/s eta 0:00:14\n",
      "     ------------------                    148.6/300.8 MB 11.1 MB/s eta 0:00:14\n",
      "     ------------------                    148.9/300.8 MB 11.1 MB/s eta 0:00:14\n",
      "     ------------------                    149.0/300.8 MB 10.4 MB/s eta 0:00:15\n",
      "     ------------------                    149.6/300.8 MB 10.4 MB/s eta 0:00:15\n",
      "     ------------------                    150.1/300.8 MB 10.9 MB/s eta 0:00:14\n",
      "     ------------------                    150.6/300.8 MB 10.9 MB/s eta 0:00:14\n",
      "     ------------------                    151.2/300.8 MB 10.9 MB/s eta 0:00:14\n",
      "     ------------------                    151.7/300.8 MB 10.9 MB/s eta 0:00:14\n",
      "     ------------------                    152.3/300.8 MB 10.9 MB/s eta 0:00:14\n",
      "     ------------------                    152.8/300.8 MB 10.9 MB/s eta 0:00:14\n",
      "     ------------------                    153.4/300.8 MB 10.9 MB/s eta 0:00:14\n",
      "     ------------------                    153.9/300.8 MB 10.9 MB/s eta 0:00:14\n",
      "     ------------------                    154.4/300.8 MB 10.9 MB/s eta 0:00:14\n",
      "     -------------------                   155.0/300.8 MB 10.9 MB/s eta 0:00:14\n",
      "     -------------------                   155.5/300.8 MB 11.1 MB/s eta 0:00:14\n",
      "     -------------------                   156.1/300.8 MB 11.1 MB/s eta 0:00:14\n",
      "     -------------------                   156.6/300.8 MB 11.1 MB/s eta 0:00:13\n",
      "     -------------------                   157.1/300.8 MB 11.1 MB/s eta 0:00:13\n",
      "     -------------------                   157.7/300.8 MB 11.1 MB/s eta 0:00:13\n",
      "     -------------------                   158.2/300.8 MB 11.1 MB/s eta 0:00:13\n",
      "     -------------------                   158.4/300.8 MB 10.7 MB/s eta 0:00:14\n",
      "     -------------------                   158.9/300.8 MB 10.7 MB/s eta 0:00:14\n",
      "     -------------------                   159.5/300.8 MB 11.3 MB/s eta 0:00:13\n",
      "     -------------------                   160.0/300.8 MB 11.5 MB/s eta 0:00:13\n",
      "     -------------------                   160.6/300.8 MB 11.3 MB/s eta 0:00:13\n",
      "     -------------------                   161.1/300.8 MB 11.3 MB/s eta 0:00:13\n",
      "     -------------------                   161.6/300.8 MB 11.3 MB/s eta 0:00:13\n",
      "     -------------------                   162.2/300.8 MB 11.3 MB/s eta 0:00:13\n",
      "     --------------------                  162.7/300.8 MB 11.3 MB/s eta 0:00:13\n",
      "     --------------------                  163.2/300.8 MB 11.3 MB/s eta 0:00:13\n",
      "     --------------------                  163.8/300.8 MB 11.3 MB/s eta 0:00:13\n",
      "     --------------------                  164.3/300.8 MB 11.3 MB/s eta 0:00:13\n",
      "     --------------------                  164.9/300.8 MB 11.3 MB/s eta 0:00:13\n",
      "     --------------------                  165.4/300.8 MB 11.3 MB/s eta 0:00:12\n",
      "     --------------------                  165.7/300.8 MB 11.3 MB/s eta 0:00:12\n",
      "     --------------------                  165.7/300.8 MB 11.3 MB/s eta 0:00:12\n",
      "     --------------------                  165.7/300.8 MB 11.3 MB/s eta 0:00:12\n",
      "     --------------------                  165.7/300.8 MB 11.3 MB/s eta 0:00:12\n",
      "     --------------------                  165.7/300.8 MB 11.3 MB/s eta 0:00:12\n",
      "     --------------------                  165.7/300.8 MB 11.3 MB/s eta 0:00:12\n",
      "     --------------------                   166.1/300.8 MB 8.7 MB/s eta 0:00:16\n",
      "     ---------------------                  166.6/300.8 MB 8.7 MB/s eta 0:00:16\n",
      "     ---------------------                  167.2/300.8 MB 8.7 MB/s eta 0:00:16\n",
      "     ---------------------                  167.7/300.8 MB 8.7 MB/s eta 0:00:16\n",
      "     ---------------------                  168.3/300.8 MB 8.7 MB/s eta 0:00:16\n",
      "     ---------------------                  168.8/300.8 MB 9.0 MB/s eta 0:00:15\n",
      "     ---------------------                  169.3/300.8 MB 9.0 MB/s eta 0:00:15\n",
      "     ---------------------                  169.9/300.8 MB 9.0 MB/s eta 0:00:15\n",
      "     ---------------------                  170.4/300.8 MB 9.0 MB/s eta 0:00:15\n",
      "     ---------------------                  170.9/300.8 MB 9.0 MB/s eta 0:00:15\n",
      "     ---------------------                  171.5/300.8 MB 9.0 MB/s eta 0:00:15\n",
      "     ---------------------                  172.0/300.8 MB 9.0 MB/s eta 0:00:15\n",
      "     ---------------------                  172.6/300.8 MB 9.0 MB/s eta 0:00:15\n",
      "     ---------------------                  173.1/300.8 MB 9.0 MB/s eta 0:00:15\n",
      "     ---------------------                  173.6/300.8 MB 9.0 MB/s eta 0:00:15\n",
      "     ----------------------                 174.2/300.8 MB 8.8 MB/s eta 0:00:15\n",
      "     ----------------------                 174.7/300.8 MB 9.0 MB/s eta 0:00:15\n",
      "     ----------------------                 175.2/300.8 MB 8.8 MB/s eta 0:00:15\n",
      "     ----------------------                 175.8/300.8 MB 9.0 MB/s eta 0:00:14\n",
      "     ---------------------                 176.3/300.8 MB 11.7 MB/s eta 0:00:11\n",
      "     ---------------------                 176.9/300.8 MB 11.9 MB/s eta 0:00:11\n",
      "     ---------------------                 177.4/300.8 MB 11.7 MB/s eta 0:00:11\n",
      "     ---------------------                 178.0/300.8 MB 11.7 MB/s eta 0:00:11\n",
      "     ---------------------                 178.5/300.8 MB 11.7 MB/s eta 0:00:11\n",
      "     ----------------------                179.0/300.8 MB 11.7 MB/s eta 0:00:11\n",
      "     ----------------------                179.6/300.8 MB 11.7 MB/s eta 0:00:11\n",
      "     ----------------------                180.1/300.8 MB 11.7 MB/s eta 0:00:11\n",
      "     ----------------------                180.7/300.8 MB 11.7 MB/s eta 0:00:11\n",
      "     ----------------------                181.2/300.8 MB 11.7 MB/s eta 0:00:11\n",
      "     ----------------------                181.4/300.8 MB 11.7 MB/s eta 0:00:11\n",
      "     ----------------------                181.4/300.8 MB 11.7 MB/s eta 0:00:11\n",
      "     ----------------------                181.4/300.8 MB 11.7 MB/s eta 0:00:11\n",
      "     ----------------------                181.4/300.8 MB 11.7 MB/s eta 0:00:11\n",
      "     ----------------------                181.4/300.8 MB 11.7 MB/s eta 0:00:11\n",
      "     ----------------------                181.4/300.8 MB 11.7 MB/s eta 0:00:11\n",
      "     ----------------------                 181.5/300.8 MB 8.7 MB/s eta 0:00:14\n",
      "     -----------------------                182.1/300.8 MB 8.7 MB/s eta 0:00:14\n",
      "     -----------------------                182.6/300.8 MB 8.7 MB/s eta 0:00:14\n",
      "     -----------------------                183.2/300.8 MB 8.7 MB/s eta 0:00:14\n",
      "     -----------------------                183.7/300.8 MB 8.7 MB/s eta 0:00:14\n",
      "     -----------------------                184.3/300.8 MB 8.7 MB/s eta 0:00:14\n",
      "     -----------------------                184.8/300.8 MB 8.7 MB/s eta 0:00:14\n",
      "     -----------------------                185.3/300.8 MB 8.7 MB/s eta 0:00:14\n",
      "     -----------------------                185.9/300.8 MB 8.7 MB/s eta 0:00:14\n",
      "     -----------------------                186.4/300.8 MB 8.7 MB/s eta 0:00:14\n",
      "     -----------------------                187.0/300.8 MB 8.7 MB/s eta 0:00:14\n",
      "     -----------------------                187.4/300.8 MB 8.7 MB/s eta 0:00:13\n",
      "     -----------------------                188.0/300.8 MB 8.7 MB/s eta 0:00:13\n",
      "     -----------------------                188.6/300.8 MB 8.6 MB/s eta 0:00:14\n",
      "     -----------------------                189.1/300.8 MB 8.6 MB/s eta 0:00:13\n",
      "     -----------------------                189.6/300.8 MB 8.7 MB/s eta 0:00:13\n",
      "     -----------------------                189.8/300.8 MB 8.7 MB/s eta 0:00:13\n",
      "     -----------------------                189.8/300.8 MB 8.7 MB/s eta 0:00:13\n",
      "     -----------------------                189.8/300.8 MB 8.7 MB/s eta 0:00:13\n",
      "     ------------------------               190.3/300.8 MB 7.9 MB/s eta 0:00:15\n",
      "     ------------------------               190.8/300.8 MB 7.9 MB/s eta 0:00:14\n",
      "     ------------------------               191.3/300.8 MB 7.9 MB/s eta 0:00:14\n",
      "     -----------------------               191.9/300.8 MB 10.2 MB/s eta 0:00:11\n",
      "     -----------------------               192.4/300.8 MB 10.2 MB/s eta 0:00:11\n",
      "     -----------------------               193.0/300.8 MB 10.2 MB/s eta 0:00:11\n",
      "     -----------------------               193.5/300.8 MB 10.2 MB/s eta 0:00:11\n",
      "     -----------------------               194.0/300.8 MB 10.2 MB/s eta 0:00:11\n",
      "     -----------------------               194.6/300.8 MB 10.1 MB/s eta 0:00:11\n",
      "     ------------------------              195.1/300.8 MB 10.1 MB/s eta 0:00:11\n",
      "     ------------------------              195.7/300.8 MB 10.1 MB/s eta 0:00:11\n",
      "     ------------------------              196.2/300.8 MB 10.1 MB/s eta 0:00:11\n",
      "     ------------------------              196.7/300.8 MB 10.1 MB/s eta 0:00:11\n",
      "     ------------------------              197.3/300.8 MB 10.1 MB/s eta 0:00:11\n",
      "     ------------------------              197.8/300.8 MB 10.2 MB/s eta 0:00:11\n",
      "     ------------------------              198.2/300.8 MB 10.1 MB/s eta 0:00:11\n",
      "     ------------------------              198.2/300.8 MB 10.1 MB/s eta 0:00:11\n",
      "     ------------------------              198.2/300.8 MB 10.1 MB/s eta 0:00:11\n",
      "     ------------------------              198.2/300.8 MB 10.1 MB/s eta 0:00:11\n",
      "     ------------------------              198.2/300.8 MB 10.1 MB/s eta 0:00:11\n",
      "     ------------------------              198.2/300.8 MB 10.1 MB/s eta 0:00:11\n",
      "     ------------------------              198.2/300.8 MB 10.1 MB/s eta 0:00:11\n",
      "     -------------------------              198.7/300.8 MB 7.9 MB/s eta 0:00:13\n",
      "     -------------------------              199.2/300.8 MB 7.9 MB/s eta 0:00:13\n",
      "     -------------------------              199.7/300.8 MB 7.9 MB/s eta 0:00:13\n",
      "     -------------------------              200.2/300.8 MB 8.7 MB/s eta 0:00:12\n",
      "     -------------------------              200.8/300.8 MB 8.7 MB/s eta 0:00:12\n",
      "     -------------------------              201.3/300.8 MB 8.7 MB/s eta 0:00:12\n",
      "     -------------------------              201.9/300.8 MB 8.7 MB/s eta 0:00:12\n",
      "     -------------------------              202.4/300.8 MB 8.7 MB/s eta 0:00:12\n",
      "     -------------------------              203.0/300.8 MB 8.7 MB/s eta 0:00:12\n",
      "     -------------------------              203.5/300.8 MB 8.7 MB/s eta 0:00:12\n",
      "     -------------------------              204.1/300.8 MB 8.7 MB/s eta 0:00:12\n",
      "     -------------------------              204.6/300.8 MB 8.7 MB/s eta 0:00:12\n",
      "     -------------------------              205.1/300.8 MB 8.7 MB/s eta 0:00:11\n",
      "     -------------------------              205.7/300.8 MB 8.7 MB/s eta 0:00:11\n",
      "     --------------------------             206.2/300.8 MB 8.7 MB/s eta 0:00:11\n",
      "     --------------------------             206.7/300.8 MB 8.7 MB/s eta 0:00:11\n",
      "     --------------------------             207.3/300.8 MB 8.6 MB/s eta 0:00:11\n",
      "     --------------------------             207.8/300.8 MB 8.6 MB/s eta 0:00:11\n",
      "     --------------------------             208.4/300.8 MB 8.7 MB/s eta 0:00:11\n",
      "     -------------------------             208.9/300.8 MB 11.7 MB/s eta 0:00:08\n",
      "     -------------------------             209.4/300.8 MB 11.7 MB/s eta 0:00:08\n",
      "     -------------------------             210.0/300.8 MB 11.7 MB/s eta 0:00:08\n",
      "     -------------------------             210.5/300.8 MB 11.9 MB/s eta 0:00:08\n",
      "     -------------------------             211.1/300.8 MB 11.7 MB/s eta 0:00:08\n",
      "     --------------------------            211.6/300.8 MB 11.7 MB/s eta 0:00:08\n",
      "     --------------------------            212.1/300.8 MB 11.7 MB/s eta 0:00:08\n",
      "     --------------------------            212.7/300.8 MB 11.7 MB/s eta 0:00:08\n",
      "     --------------------------            213.2/300.8 MB 11.7 MB/s eta 0:00:08\n",
      "     --------------------------            213.8/300.8 MB 11.7 MB/s eta 0:00:08\n",
      "     --------------------------            214.3/300.8 MB 11.7 MB/s eta 0:00:08\n",
      "     --------------------------            214.8/300.8 MB 11.7 MB/s eta 0:00:08\n",
      "     --------------------------            215.4/300.8 MB 11.7 MB/s eta 0:00:08\n",
      "     --------------------------            215.9/300.8 MB 11.7 MB/s eta 0:00:08\n",
      "     --------------------------            216.5/300.8 MB 11.7 MB/s eta 0:00:08\n",
      "     --------------------------            217.0/300.8 MB 11.7 MB/s eta 0:00:08\n",
      "     --------------------------            217.5/300.8 MB 11.7 MB/s eta 0:00:08\n",
      "     --------------------------            218.1/300.8 MB 11.7 MB/s eta 0:00:08\n",
      "     --------------------------            218.6/300.8 MB 11.7 MB/s eta 0:00:08\n",
      "     --------------------------            219.1/300.8 MB 11.7 MB/s eta 0:00:07\n",
      "     ---------------------------           219.7/300.8 MB 11.7 MB/s eta 0:00:07\n",
      "     ---------------------------           220.2/300.8 MB 11.7 MB/s eta 0:00:07\n",
      "     ---------------------------           220.8/300.8 MB 11.9 MB/s eta 0:00:07\n",
      "     ---------------------------           221.3/300.8 MB 11.9 MB/s eta 0:00:07\n",
      "     ---------------------------           221.8/300.8 MB 11.7 MB/s eta 0:00:07\n",
      "     ---------------------------           222.4/300.8 MB 11.7 MB/s eta 0:00:07\n",
      "     ---------------------------           222.9/300.8 MB 11.7 MB/s eta 0:00:07\n",
      "     ---------------------------           223.4/300.8 MB 11.7 MB/s eta 0:00:07\n",
      "     ---------------------------           224.0/300.8 MB 11.7 MB/s eta 0:00:07\n",
      "     ---------------------------           224.5/300.8 MB 11.7 MB/s eta 0:00:07\n",
      "     ---------------------------           225.1/300.8 MB 11.7 MB/s eta 0:00:07\n",
      "     ---------------------------           225.6/300.8 MB 11.7 MB/s eta 0:00:07\n",
      "     ---------------------------           226.1/300.8 MB 11.7 MB/s eta 0:00:07\n",
      "     ---------------------------           226.7/300.8 MB 11.7 MB/s eta 0:00:07\n",
      "     ---------------------------           227.2/300.8 MB 11.7 MB/s eta 0:00:07\n",
      "     ----------------------------          227.7/300.8 MB 11.7 MB/s eta 0:00:07\n",
      "     ----------------------------          228.3/300.8 MB 11.9 MB/s eta 0:00:07\n",
      "     ----------------------------          228.6/300.8 MB 11.7 MB/s eta 0:00:07\n",
      "     ----------------------------          228.6/300.8 MB 11.7 MB/s eta 0:00:07\n",
      "     ----------------------------          228.6/300.8 MB 11.7 MB/s eta 0:00:07\n",
      "     ----------------------------          228.6/300.8 MB 11.7 MB/s eta 0:00:07\n",
      "     ----------------------------          228.6/300.8 MB 11.7 MB/s eta 0:00:07\n",
      "     ----------------------------          228.6/300.8 MB 11.7 MB/s eta 0:00:07\n",
      "     ----------------------------          228.6/300.8 MB 11.7 MB/s eta 0:00:07\n",
      "     ----------------------------          228.6/300.8 MB 11.7 MB/s eta 0:00:07\n",
      "     ----------------------------          228.6/300.8 MB 11.7 MB/s eta 0:00:07\n",
      "     ----------------------------          228.6/300.8 MB 11.7 MB/s eta 0:00:07\n",
      "     ----------------------------          228.6/300.8 MB 11.7 MB/s eta 0:00:07\n",
      "     ----------------------------          228.6/300.8 MB 11.7 MB/s eta 0:00:07\n",
      "     ----------------------------          228.6/300.8 MB 11.7 MB/s eta 0:00:07\n",
      "     ----------------------------          228.6/300.8 MB 11.7 MB/s eta 0:00:07\n",
      "     ----------------------------          228.6/300.8 MB 11.7 MB/s eta 0:00:07\n",
      "     ----------------------------          228.6/300.8 MB 11.7 MB/s eta 0:00:07\n",
      "     ----------------------------          228.6/300.8 MB 11.7 MB/s eta 0:00:07\n",
      "     ----------------------------           229.1/300.8 MB 6.2 MB/s eta 0:00:12\n",
      "     -----------------------------          229.6/300.8 MB 6.2 MB/s eta 0:00:12\n",
      "     -----------------------------          230.2/300.8 MB 6.2 MB/s eta 0:00:12\n",
      "     -----------------------------          230.7/300.8 MB 6.2 MB/s eta 0:00:12\n",
      "     -----------------------------          230.7/300.8 MB 6.1 MB/s eta 0:00:12\n",
      "     -----------------------------          231.3/300.8 MB 6.1 MB/s eta 0:00:12\n",
      "     -----------------------------          231.8/300.8 MB 6.1 MB/s eta 0:00:12\n",
      "     -----------------------------          232.4/300.8 MB 6.1 MB/s eta 0:00:12\n",
      "     -----------------------------          232.9/300.8 MB 6.1 MB/s eta 0:00:12\n",
      "     -----------------------------          233.4/300.8 MB 6.1 MB/s eta 0:00:12\n",
      "     -----------------------------          234.0/300.8 MB 6.1 MB/s eta 0:00:12\n",
      "     -----------------------------          234.5/300.8 MB 6.1 MB/s eta 0:00:11\n",
      "     -----------------------------          234.9/300.8 MB 6.1 MB/s eta 0:00:11\n",
      "     -----------------------------          235.3/300.8 MB 6.0 MB/s eta 0:00:12\n",
      "     -----------------------------          235.8/300.8 MB 6.0 MB/s eta 0:00:11\n",
      "     -----------------------------          236.4/300.8 MB 6.0 MB/s eta 0:00:11\n",
      "     -----------------------------          236.9/300.8 MB 6.0 MB/s eta 0:00:11\n",
      "     -----------------------------          237.0/300.8 MB 6.0 MB/s eta 0:00:11\n",
      "     -----------------------------          237.4/300.8 MB 5.8 MB/s eta 0:00:11\n",
      "     ------------------------------         238.0/300.8 MB 5.8 MB/s eta 0:00:11\n",
      "     ------------------------------         238.5/300.8 MB 5.8 MB/s eta 0:00:11\n",
      "     -----------------------------         239.1/300.8 MB 10.4 MB/s eta 0:00:06\n",
      "     -----------------------------         239.1/300.8 MB 10.4 MB/s eta 0:00:06\n",
      "     ------------------------------         239.4/300.8 MB 9.8 MB/s eta 0:00:07\n",
      "     ------------------------------         240.0/300.8 MB 9.8 MB/s eta 0:00:07\n",
      "     ------------------------------         240.5/300.8 MB 9.8 MB/s eta 0:00:07\n",
      "     -----------------------------         241.1/300.8 MB 10.2 MB/s eta 0:00:06\n",
      "     -----------------------------         241.6/300.8 MB 10.2 MB/s eta 0:00:06\n",
      "     -----------------------------         242.1/300.8 MB 10.1 MB/s eta 0:00:06\n",
      "     -----------------------------         242.7/300.8 MB 10.1 MB/s eta 0:00:06\n",
      "     -----------------------------         243.2/300.8 MB 10.1 MB/s eta 0:00:06\n",
      "     -----------------------------         243.8/300.8 MB 10.1 MB/s eta 0:00:06\n",
      "     ------------------------------        244.3/300.8 MB 10.1 MB/s eta 0:00:06\n",
      "     ------------------------------        244.8/300.8 MB 10.1 MB/s eta 0:00:06\n",
      "     ------------------------------        245.4/300.8 MB 10.4 MB/s eta 0:00:06\n",
      "     ------------------------------        245.9/300.8 MB 10.4 MB/s eta 0:00:06\n",
      "     ------------------------------        246.4/300.8 MB 10.4 MB/s eta 0:00:06\n",
      "     ------------------------------        247.0/300.8 MB 10.4 MB/s eta 0:00:06\n",
      "     ------------------------------        247.5/300.8 MB 10.9 MB/s eta 0:00:05\n",
      "     ------------------------------        248.1/300.8 MB 10.9 MB/s eta 0:00:05\n",
      "     ------------------------------        248.6/300.8 MB 10.9 MB/s eta 0:00:05\n",
      "     ------------------------------        249.2/300.8 MB 10.9 MB/s eta 0:00:05\n",
      "     ------------------------------        249.7/300.8 MB 11.9 MB/s eta 0:00:05\n",
      "     ------------------------------        250.2/300.8 MB 11.7 MB/s eta 0:00:05\n",
      "     ------------------------------        250.7/300.8 MB 11.7 MB/s eta 0:00:05\n",
      "     ------------------------------        251.3/300.8 MB 11.7 MB/s eta 0:00:05\n",
      "     ------------------------------        251.9/300.8 MB 11.7 MB/s eta 0:00:05\n",
      "     -------------------------------       252.4/300.8 MB 11.7 MB/s eta 0:00:05\n",
      "     -------------------------------       252.9/300.8 MB 11.7 MB/s eta 0:00:05\n",
      "     -------------------------------       253.5/300.8 MB 11.7 MB/s eta 0:00:05\n",
      "     -------------------------------       254.0/300.8 MB 11.7 MB/s eta 0:00:05\n",
      "     -------------------------------       254.5/300.8 MB 11.7 MB/s eta 0:00:04\n",
      "     -------------------------------       255.1/300.8 MB 11.7 MB/s eta 0:00:04\n",
      "     -------------------------------       255.6/300.8 MB 11.7 MB/s eta 0:00:04\n",
      "     -------------------------------       256.2/300.8 MB 11.7 MB/s eta 0:00:04\n",
      "     -------------------------------       256.7/300.8 MB 11.7 MB/s eta 0:00:04\n",
      "     -------------------------------       257.2/300.8 MB 11.7 MB/s eta 0:00:04\n",
      "     -------------------------------       257.8/300.8 MB 11.7 MB/s eta 0:00:04\n",
      "     -------------------------------       258.3/300.8 MB 11.7 MB/s eta 0:00:04\n",
      "     -------------------------------       258.9/300.8 MB 11.7 MB/s eta 0:00:04\n",
      "     -------------------------------       259.4/300.8 MB 11.7 MB/s eta 0:00:04\n",
      "     -------------------------------       259.9/300.8 MB 11.7 MB/s eta 0:00:04\n",
      "     --------------------------------      260.5/300.8 MB 11.7 MB/s eta 0:00:04\n",
      "     --------------------------------      261.0/300.8 MB 11.9 MB/s eta 0:00:04\n",
      "     --------------------------------      261.6/300.8 MB 11.7 MB/s eta 0:00:04\n",
      "     --------------------------------      262.1/300.8 MB 11.7 MB/s eta 0:00:04\n",
      "     --------------------------------      262.6/300.8 MB 11.7 MB/s eta 0:00:04\n",
      "     --------------------------------      263.2/300.8 MB 11.9 MB/s eta 0:00:04\n",
      "     --------------------------------      263.7/300.8 MB 11.7 MB/s eta 0:00:04\n",
      "     --------------------------------      264.3/300.8 MB 11.7 MB/s eta 0:00:04\n",
      "     --------------------------------      264.8/300.8 MB 11.7 MB/s eta 0:00:04\n",
      "     --------------------------------      265.3/300.8 MB 11.7 MB/s eta 0:00:04\n",
      "     --------------------------------      265.9/300.8 MB 11.7 MB/s eta 0:00:03\n",
      "     --------------------------------      266.4/300.8 MB 11.7 MB/s eta 0:00:03\n",
      "     --------------------------------      266.9/300.8 MB 11.7 MB/s eta 0:00:03\n",
      "     --------------------------------      267.5/300.8 MB 11.7 MB/s eta 0:00:03\n",
      "     --------------------------------      268.0/300.8 MB 11.7 MB/s eta 0:00:03\n",
      "     ---------------------------------     268.6/300.8 MB 11.7 MB/s eta 0:00:03\n",
      "     ---------------------------------     269.1/300.8 MB 11.7 MB/s eta 0:00:03\n",
      "     ---------------------------------     269.6/300.8 MB 11.7 MB/s eta 0:00:03\n",
      "     ---------------------------------     270.2/300.8 MB 11.7 MB/s eta 0:00:03\n",
      "     ---------------------------------     270.7/300.8 MB 11.7 MB/s eta 0:00:03\n",
      "     ---------------------------------     271.3/300.8 MB 11.7 MB/s eta 0:00:03\n",
      "     ---------------------------------     271.8/300.8 MB 11.7 MB/s eta 0:00:03\n",
      "     ---------------------------------     272.4/300.8 MB 11.7 MB/s eta 0:00:03\n",
      "     ---------------------------------     272.9/300.8 MB 11.7 MB/s eta 0:00:03\n",
      "     ---------------------------------     273.4/300.8 MB 11.7 MB/s eta 0:00:03\n",
      "     ---------------------------------     273.9/300.8 MB 11.7 MB/s eta 0:00:03\n",
      "     ---------------------------------     274.5/300.8 MB 11.7 MB/s eta 0:00:03\n",
      "     ---------------------------------     275.0/300.8 MB 11.7 MB/s eta 0:00:03\n",
      "     ---------------------------------     275.6/300.8 MB 11.7 MB/s eta 0:00:03\n",
      "     ---------------------------------     276.1/300.8 MB 11.7 MB/s eta 0:00:03\n",
      "     ----------------------------------    276.6/300.8 MB 11.7 MB/s eta 0:00:03\n",
      "     ----------------------------------    277.2/300.8 MB 11.7 MB/s eta 0:00:03\n",
      "     ----------------------------------    277.7/300.8 MB 11.7 MB/s eta 0:00:02\n",
      "     ----------------------------------    278.3/300.8 MB 11.7 MB/s eta 0:00:02\n",
      "     ----------------------------------    278.8/300.8 MB 11.7 MB/s eta 0:00:02\n",
      "     ----------------------------------    279.3/300.8 MB 11.7 MB/s eta 0:00:02\n",
      "     ----------------------------------    279.8/300.8 MB 11.7 MB/s eta 0:00:02\n",
      "     ----------------------------------    280.4/300.8 MB 11.7 MB/s eta 0:00:02\n",
      "     ----------------------------------    280.9/300.8 MB 11.7 MB/s eta 0:00:02\n",
      "     ----------------------------------    281.4/300.8 MB 11.5 MB/s eta 0:00:02\n",
      "     ----------------------------------    282.0/300.8 MB 11.7 MB/s eta 0:00:02\n",
      "     ----------------------------------    282.5/300.8 MB 11.7 MB/s eta 0:00:02\n",
      "     ----------------------------------    283.1/300.8 MB 11.7 MB/s eta 0:00:02\n",
      "     ----------------------------------    283.1/300.8 MB 11.7 MB/s eta 0:00:02\n",
      "     ----------------------------------    283.1/300.8 MB 11.7 MB/s eta 0:00:02\n",
      "     ----------------------------------    283.1/300.8 MB 11.7 MB/s eta 0:00:02\n",
      "     ----------------------------------    283.1/300.8 MB 11.7 MB/s eta 0:00:02\n",
      "     ----------------------------------    283.1/300.8 MB 11.7 MB/s eta 0:00:02\n",
      "     ----------------------------------    283.1/300.8 MB 11.7 MB/s eta 0:00:02\n",
      "     -----------------------------------    283.3/300.8 MB 8.6 MB/s eta 0:00:03\n",
      "     -----------------------------------    283.8/300.8 MB 8.6 MB/s eta 0:00:02\n",
      "     -----------------------------------    284.4/300.8 MB 8.6 MB/s eta 0:00:02\n",
      "     -----------------------------------    284.9/300.8 MB 8.6 MB/s eta 0:00:02\n",
      "     ------------------------------------   285.4/300.8 MB 8.6 MB/s eta 0:00:02\n",
      "     ------------------------------------   286.0/300.8 MB 8.6 MB/s eta 0:00:02\n",
      "     ------------------------------------   286.5/300.8 MB 8.6 MB/s eta 0:00:02\n",
      "     ------------------------------------   287.1/300.8 MB 8.6 MB/s eta 0:00:02\n",
      "     ------------------------------------   287.6/300.8 MB 8.6 MB/s eta 0:00:02\n",
      "     ------------------------------------   288.2/300.8 MB 8.6 MB/s eta 0:00:02\n",
      "     ------------------------------------   288.7/300.8 MB 8.6 MB/s eta 0:00:02\n",
      "     ------------------------------------   289.2/300.8 MB 8.6 MB/s eta 0:00:02\n",
      "     ------------------------------------   289.8/300.8 MB 8.6 MB/s eta 0:00:02\n",
      "     ------------------------------------   290.3/300.8 MB 8.6 MB/s eta 0:00:02\n",
      "     ------------------------------------   290.9/300.8 MB 8.6 MB/s eta 0:00:02\n",
      "     ------------------------------------   291.4/300.8 MB 8.6 MB/s eta 0:00:02\n",
      "     ------------------------------------   291.9/300.8 MB 8.6 MB/s eta 0:00:02\n",
      "     ------------------------------------   292.5/300.8 MB 8.6 MB/s eta 0:00:01\n",
      "     -------------------------------------  293.0/300.8 MB 8.6 MB/s eta 0:00:01\n",
      "     ------------------------------------  293.6/300.8 MB 11.7 MB/s eta 0:00:01\n",
      "     ------------------------------------  294.1/300.8 MB 11.7 MB/s eta 0:00:01\n",
      "     ------------------------------------  294.6/300.8 MB 11.7 MB/s eta 0:00:01\n",
      "     ------------------------------------  294.7/300.8 MB 11.3 MB/s eta 0:00:01\n",
      "     ------------------------------------  295.3/300.8 MB 11.3 MB/s eta 0:00:01\n",
      "     ------------------------------------  295.7/300.8 MB 11.1 MB/s eta 0:00:01\n",
      "     ------------------------------------  295.7/300.8 MB 11.1 MB/s eta 0:00:01\n",
      "     ------------------------------------  295.7/300.8 MB 11.1 MB/s eta 0:00:01\n",
      "     -------------------------------------  295.8/300.8 MB 9.8 MB/s eta 0:00:01\n",
      "     -------------------------------------  296.3/300.8 MB 9.8 MB/s eta 0:00:01\n",
      "     -------------------------------------  296.7/300.8 MB 9.6 MB/s eta 0:00:01\n",
      "     -------------------------------------  297.0/300.8 MB 9.4 MB/s eta 0:00:01\n",
      "     -------------------------------------  297.5/300.8 MB 9.4 MB/s eta 0:00:01\n",
      "     -------------------------------------  298.0/300.8 MB 9.4 MB/s eta 0:00:01\n",
      "     -------------------------------------  298.6/300.8 MB 9.4 MB/s eta 0:00:01\n",
      "     -------------------------------------  299.1/300.8 MB 9.4 MB/s eta 0:00:01\n",
      "     -------------------------------------  299.7/300.8 MB 9.4 MB/s eta 0:00:01\n",
      "     -------------------------------------  300.2/300.8 MB 9.4 MB/s eta 0:00:01\n",
      "     -------------------------------------  300.7/300.8 MB 9.4 MB/s eta 0:00:01\n",
      "     -------------------------------------  300.8/300.8 MB 9.4 MB/s eta 0:00:01\n",
      "     -------------------------------------  300.8/300.8 MB 9.4 MB/s eta 0:00:01\n",
      "     -------------------------------------  300.8/300.8 MB 9.4 MB/s eta 0:00:01\n",
      "     -------------------------------------  300.8/300.8 MB 9.4 MB/s eta 0:00:01\n",
      "     -------------------------------------  300.8/300.8 MB 9.4 MB/s eta 0:00:01\n",
      "     -------------------------------------  300.8/300.8 MB 9.4 MB/s eta 0:00:01\n",
      "     -------------------------------------  300.8/300.8 MB 9.4 MB/s eta 0:00:01\n",
      "     -------------------------------------  300.8/300.8 MB 9.4 MB/s eta 0:00:01\n",
      "     -------------------------------------  300.8/300.8 MB 9.4 MB/s eta 0:00:01\n",
      "     -------------------------------------  300.8/300.8 MB 9.4 MB/s eta 0:00:01\n",
      "     -------------------------------------  300.8/300.8 MB 9.4 MB/s eta 0:00:01\n",
      "     -------------------------------------  300.8/300.8 MB 9.4 MB/s eta 0:00:01\n",
      "     -------------------------------------  300.8/300.8 MB 9.4 MB/s eta 0:00:01\n",
      "     -------------------------------------  300.8/300.8 MB 9.4 MB/s eta 0:00:01\n",
      "     -------------------------------------  300.8/300.8 MB 9.4 MB/s eta 0:00:01\n",
      "     -------------------------------------  300.8/300.8 MB 9.4 MB/s eta 0:00:01\n",
      "     -------------------------------------  300.8/300.8 MB 9.4 MB/s eta 0:00:01\n",
      "     -------------------------------------  300.8/300.8 MB 9.4 MB/s eta 0:00:01\n",
      "     -------------------------------------  300.8/300.8 MB 9.4 MB/s eta 0:00:01\n",
      "     -------------------------------------  300.8/300.8 MB 9.4 MB/s eta 0:00:01\n",
      "     -------------------------------------  300.8/300.8 MB 9.4 MB/s eta 0:00:01\n",
      "     -------------------------------------- 300.8/300.8 MB 4.4 MB/s eta 0:00:00\n",
      "Collecting absl-py>=1.0.0 (from tensorflow-intel==2.15.0->tensorflow)\n",
      "  Downloading absl_py-2.1.0-py3-none-any.whl (133 kB)\n",
      "                                              0.0/133.7 kB ? eta -:--:--\n",
      "     -------------------------------------- 133.7/133.7 kB 8.2 MB/s eta 0:00:00\n",
      "Collecting astunparse>=1.6.0 (from tensorflow-intel==2.15.0->tensorflow)\n",
      "  Downloading astunparse-1.6.3-py2.py3-none-any.whl (12 kB)\n",
      "Collecting flatbuffers>=23.5.26 (from tensorflow-intel==2.15.0->tensorflow)\n",
      "  Downloading flatbuffers-23.5.26-py2.py3-none-any.whl (26 kB)\n",
      "Collecting gast!=0.5.0,!=0.5.1,!=0.5.2,>=0.2.1 (from tensorflow-intel==2.15.0->tensorflow)\n",
      "  Downloading gast-0.5.4-py3-none-any.whl (19 kB)\n",
      "Collecting google-pasta>=0.1.1 (from tensorflow-intel==2.15.0->tensorflow)\n",
      "  Downloading google_pasta-0.2.0-py3-none-any.whl (57 kB)\n",
      "                                              0.0/57.5 kB ? eta -:--:--\n",
      "     ---------------------------------------- 57.5/57.5 kB 3.0 MB/s eta 0:00:00\n",
      "Requirement already satisfied: h5py>=2.9.0 in c:\\users\\pichau\\anaconda3\\lib\\site-packages (from tensorflow-intel==2.15.0->tensorflow) (3.7.0)\n",
      "Collecting libclang>=13.0.0 (from tensorflow-intel==2.15.0->tensorflow)\n",
      "  Downloading libclang-16.0.6-py2.py3-none-win_amd64.whl (24.4 MB)\n",
      "                                              0.0/24.4 MB ? eta -:--:--\n",
      "                                              0.5/24.4 MB 10.2 MB/s eta 0:00:03\n",
      "     -                                        0.9/24.4 MB 9.7 MB/s eta 0:00:03\n",
      "     --                                       1.5/24.4 MB 10.2 MB/s eta 0:00:03\n",
      "     ---                                      2.0/24.4 MB 10.5 MB/s eta 0:00:03\n",
      "     ----                                     2.5/24.4 MB 10.7 MB/s eta 0:00:03\n",
      "     -----                                    3.1/24.4 MB 10.9 MB/s eta 0:00:02\n",
      "     -----                                    3.6/24.4 MB 11.0 MB/s eta 0:00:02\n",
      "     ------                                   4.1/24.4 MB 11.0 MB/s eta 0:00:02\n",
      "     -------                                  4.7/24.4 MB 11.1 MB/s eta 0:00:02\n",
      "     --------                                 5.2/24.4 MB 11.1 MB/s eta 0:00:02\n",
      "     ---------                                5.7/24.4 MB 11.4 MB/s eta 0:00:02\n",
      "     ----------                               6.3/24.4 MB 11.5 MB/s eta 0:00:02\n",
      "     -----------                              6.8/24.4 MB 11.4 MB/s eta 0:00:02\n",
      "     ------------                             7.4/24.4 MB 11.5 MB/s eta 0:00:02\n",
      "     ------------                             7.9/24.4 MB 11.4 MB/s eta 0:00:02\n",
      "     -------------                            8.4/24.4 MB 11.5 MB/s eta 0:00:02\n",
      "     --------------                           9.0/24.4 MB 11.5 MB/s eta 0:00:02\n",
      "     ---------------                          9.5/24.4 MB 11.5 MB/s eta 0:00:02\n",
      "     ----------------                        10.1/24.4 MB 11.5 MB/s eta 0:00:02\n",
      "     ----------------                        10.6/24.4 MB 11.7 MB/s eta 0:00:02\n",
      "     -----------------                       11.1/24.4 MB 11.7 MB/s eta 0:00:02\n",
      "     ------------------                      11.7/24.4 MB 11.7 MB/s eta 0:00:02\n",
      "     -------------------                     12.2/24.4 MB 11.7 MB/s eta 0:00:02\n",
      "     --------------------                    12.7/24.4 MB 11.7 MB/s eta 0:00:02\n",
      "     ---------------------                   13.3/24.4 MB 11.7 MB/s eta 0:00:01\n",
      "     ----------------------                  13.8/24.4 MB 11.7 MB/s eta 0:00:01\n",
      "     ----------------------                  14.3/24.4 MB 11.5 MB/s eta 0:00:01\n",
      "     -----------------------                 14.9/24.4 MB 11.9 MB/s eta 0:00:01\n",
      "     ------------------------                15.4/24.4 MB 11.7 MB/s eta 0:00:01\n",
      "     -------------------------               16.0/24.4 MB 11.7 MB/s eta 0:00:01\n",
      "     --------------------------              16.5/24.4 MB 11.7 MB/s eta 0:00:01\n",
      "     ---------------------------             17.0/24.4 MB 11.7 MB/s eta 0:00:01\n",
      "     ----------------------------            17.6/24.4 MB 11.7 MB/s eta 0:00:01\n",
      "     ----------------------------            18.1/24.4 MB 11.7 MB/s eta 0:00:01\n",
      "     -----------------------------           18.6/24.4 MB 11.7 MB/s eta 0:00:01\n",
      "     ------------------------------          19.2/24.4 MB 11.7 MB/s eta 0:00:01\n",
      "     -------------------------------         19.7/24.4 MB 11.7 MB/s eta 0:00:01\n",
      "     --------------------------------        20.2/24.4 MB 11.7 MB/s eta 0:00:01\n",
      "     ---------------------------------       20.8/24.4 MB 11.7 MB/s eta 0:00:01\n",
      "     ----------------------------------      21.3/24.4 MB 11.7 MB/s eta 0:00:01\n",
      "     ----------------------------------      21.9/24.4 MB 11.7 MB/s eta 0:00:01\n",
      "     -----------------------------------     22.4/24.4 MB 11.7 MB/s eta 0:00:01\n",
      "     ------------------------------------    22.9/24.4 MB 11.7 MB/s eta 0:00:01\n",
      "     -------------------------------------   23.5/24.4 MB 11.7 MB/s eta 0:00:01\n",
      "     --------------------------------------  24.0/24.4 MB 11.7 MB/s eta 0:00:01\n",
      "     --------------------------------------  24.4/24.4 MB 11.7 MB/s eta 0:00:01\n",
      "     --------------------------------------  24.4/24.4 MB 11.7 MB/s eta 0:00:01\n",
      "     --------------------------------------  24.4/24.4 MB 11.7 MB/s eta 0:00:01\n",
      "     --------------------------------------- 24.4/24.4 MB 10.1 MB/s eta 0:00:00\n",
      "Collecting ml-dtypes~=0.2.0 (from tensorflow-intel==2.15.0->tensorflow)\n",
      "  Downloading ml_dtypes-0.2.0-cp39-cp39-win_amd64.whl (938 kB)\n",
      "                                              0.0/938.4 kB ? eta -:--:--\n",
      "     ----------------------                573.4/938.4 kB 12.0 MB/s eta 0:00:01\n",
      "     ------------------------------------- 938.4/938.4 kB 10.0 MB/s eta 0:00:00\n",
      "Requirement already satisfied: numpy<2.0.0,>=1.23.5 in c:\\users\\pichau\\anaconda3\\lib\\site-packages (from tensorflow-intel==2.15.0->tensorflow) (1.23.5)\n",
      "Collecting opt-einsum>=2.3.2 (from tensorflow-intel==2.15.0->tensorflow)\n",
      "  Downloading opt_einsum-3.3.0-py3-none-any.whl (65 kB)\n",
      "                                              0.0/65.5 kB ? eta -:--:--\n",
      "     ---------------------------------------- 65.5/65.5 kB ? eta 0:00:00\n",
      "Requirement already satisfied: packaging in c:\\users\\pichau\\anaconda3\\lib\\site-packages (from tensorflow-intel==2.15.0->tensorflow) (23.0)\n",
      "Collecting protobuf!=4.21.0,!=4.21.1,!=4.21.2,!=4.21.3,!=4.21.4,!=4.21.5,<5.0.0dev,>=3.20.3 (from tensorflow-intel==2.15.0->tensorflow)\n",
      "  Downloading protobuf-4.25.3-cp39-cp39-win_amd64.whl (413 kB)\n",
      "                                              0.0/413.4 kB ? eta -:--:--\n",
      "     ------------------------------------  409.6/413.4 kB 12.9 MB/s eta 0:00:01\n",
      "     -------------------------------------- 413.4/413.4 kB 8.6 MB/s eta 0:00:00\n",
      "Requirement already satisfied: setuptools in c:\\users\\pichau\\anaconda3\\lib\\site-packages (from tensorflow-intel==2.15.0->tensorflow) (67.8.0)\n",
      "Requirement already satisfied: six>=1.12.0 in c:\\users\\pichau\\anaconda3\\lib\\site-packages (from tensorflow-intel==2.15.0->tensorflow) (1.16.0)\n",
      "Collecting termcolor>=1.1.0 (from tensorflow-intel==2.15.0->tensorflow)\n",
      "  Downloading termcolor-2.4.0-py3-none-any.whl (7.7 kB)\n",
      "Requirement already satisfied: typing-extensions>=3.6.6 in c:\\users\\pichau\\anaconda3\\lib\\site-packages (from tensorflow-intel==2.15.0->tensorflow) (4.9.0)\n",
      "Requirement already satisfied: wrapt<1.15,>=1.11.0 in c:\\users\\pichau\\anaconda3\\lib\\site-packages (from tensorflow-intel==2.15.0->tensorflow) (1.14.1)\n",
      "Collecting tensorflow-io-gcs-filesystem>=0.23.1 (from tensorflow-intel==2.15.0->tensorflow)\n",
      "  Downloading tensorflow_io_gcs_filesystem-0.31.0-cp39-cp39-win_amd64.whl (1.5 MB)\n",
      "                                              0.0/1.5 MB ? eta -:--:--\n",
      "     ------------                             0.5/1.5 MB 13.8 MB/s eta 0:00:01\n",
      "     --------------------------               1.0/1.5 MB 12.3 MB/s eta 0:00:01\n",
      "     ---------------------------------------  1.5/1.5 MB 11.8 MB/s eta 0:00:01\n",
      "     ---------------------------------------- 1.5/1.5 MB 11.8 MB/s eta 0:00:00\n",
      "Collecting grpcio<2.0,>=1.24.3 (from tensorflow-intel==2.15.0->tensorflow)\n",
      "  Downloading grpcio-1.62.0-cp39-cp39-win_amd64.whl (3.8 MB)\n",
      "                                              0.0/3.8 MB ? eta -:--:--\n",
      "     -----                                    0.6/3.8 MB 11.5 MB/s eta 0:00:01\n",
      "     ----------                               1.0/3.8 MB 11.0 MB/s eta 0:00:01\n",
      "     ----------                               1.0/3.8 MB 11.0 MB/s eta 0:00:01\n",
      "     ----------                               1.0/3.8 MB 11.0 MB/s eta 0:00:01\n",
      "     --------------                           1.4/3.8 MB 6.0 MB/s eta 0:00:01\n",
      "     --------------------                     2.0/3.8 MB 7.0 MB/s eta 0:00:01\n",
      "     ------------------------                 2.3/3.8 MB 7.1 MB/s eta 0:00:01\n",
      "     -----------------------------            2.8/3.8 MB 7.6 MB/s eta 0:00:01\n",
      "     ---------------------------------        3.1/3.8 MB 8.0 MB/s eta 0:00:01\n",
      "     ---------------------------------        3.1/3.8 MB 8.0 MB/s eta 0:00:01\n",
      "     ---------------------------------        3.1/3.8 MB 8.0 MB/s eta 0:00:01\n",
      "     --------------------------------------   3.6/3.8 MB 6.4 MB/s eta 0:00:01\n",
      "     ---------------------------------------- 3.8/3.8 MB 6.4 MB/s eta 0:00:00\n",
      "Collecting tensorboard<2.16,>=2.15 (from tensorflow-intel==2.15.0->tensorflow)\n",
      "  Downloading tensorboard-2.15.2-py3-none-any.whl (5.5 MB)\n",
      "                                              0.0/5.5 MB ? eta -:--:--\n",
      "     ----                                     0.6/5.5 MB 11.8 MB/s eta 0:00:01\n",
      "     --------                                 1.1/5.5 MB 11.8 MB/s eta 0:00:01\n",
      "     -----------                              1.7/5.5 MB 11.7 MB/s eta 0:00:01\n",
      "     ---------------                          2.2/5.5 MB 11.6 MB/s eta 0:00:01\n",
      "     -------------------                      2.7/5.5 MB 12.4 MB/s eta 0:00:01\n",
      "     -----------------------                  3.2/5.5 MB 12.2 MB/s eta 0:00:01\n",
      "     ---------------------------              3.8/5.5 MB 12.1 MB/s eta 0:00:01\n",
      "     -------------------------------          4.3/5.5 MB 12.0 MB/s eta 0:00:01\n",
      "     -----------------------------------      4.9/5.5 MB 12.0 MB/s eta 0:00:01\n",
      "     ---------------------------------------  5.4/5.5 MB 11.9 MB/s eta 0:00:01\n",
      "     ---------------------------------------- 5.5/5.5 MB 11.4 MB/s eta 0:00:00\n",
      "Collecting tensorflow-estimator<2.16,>=2.15.0 (from tensorflow-intel==2.15.0->tensorflow)\n",
      "  Downloading tensorflow_estimator-2.15.0-py2.py3-none-any.whl (441 kB)\n",
      "                                              0.0/442.0 kB ? eta -:--:--\n",
      "     -------------------------------------- 442.0/442.0 kB 9.2 MB/s eta 0:00:00\n",
      "Collecting keras<2.16,>=2.15.0 (from tensorflow-intel==2.15.0->tensorflow)\n",
      "  Downloading keras-2.15.0-py3-none-any.whl (1.7 MB)\n",
      "                                              0.0/1.7 MB ? eta -:--:--\n",
      "     ----------                               0.5/1.7 MB 14.5 MB/s eta 0:00:01\n",
      "     -----------------------                  1.0/1.7 MB 12.6 MB/s eta 0:00:01\n",
      "     -------------------------------          1.4/1.7 MB 12.3 MB/s eta 0:00:01\n",
      "     ---------------------------------------- 1.7/1.7 MB 12.1 MB/s eta 0:00:00\n",
      "Requirement already satisfied: wheel<1.0,>=0.23.0 in c:\\users\\pichau\\anaconda3\\lib\\site-packages (from astunparse>=1.6.0->tensorflow-intel==2.15.0->tensorflow) (0.38.4)\n",
      "Collecting google-auth<3,>=1.6.3 (from tensorboard<2.16,>=2.15->tensorflow-intel==2.15.0->tensorflow)\n",
      "  Downloading google_auth-2.28.1-py2.py3-none-any.whl (186 kB)\n",
      "                                              0.0/186.9 kB ? eta -:--:--\n",
      "     ------------------------------------- 186.9/186.9 kB 11.8 MB/s eta 0:00:00\n",
      "Collecting google-auth-oauthlib<2,>=0.5 (from tensorboard<2.16,>=2.15->tensorflow-intel==2.15.0->tensorflow)\n",
      "  Downloading google_auth_oauthlib-1.2.0-py2.py3-none-any.whl (24 kB)\n",
      "Requirement already satisfied: markdown>=2.6.8 in c:\\users\\pichau\\anaconda3\\lib\\site-packages (from tensorboard<2.16,>=2.15->tensorflow-intel==2.15.0->tensorflow) (3.4.1)\n",
      "Requirement already satisfied: requests<3,>=2.21.0 in c:\\users\\pichau\\anaconda3\\lib\\site-packages (from tensorboard<2.16,>=2.15->tensorflow-intel==2.15.0->tensorflow) (2.29.0)\n",
      "Collecting tensorboard-data-server<0.8.0,>=0.7.0 (from tensorboard<2.16,>=2.15->tensorflow-intel==2.15.0->tensorflow)\n",
      "  Downloading tensorboard_data_server-0.7.2-py3-none-any.whl (2.4 kB)\n",
      "Requirement already satisfied: werkzeug>=1.0.1 in c:\\users\\pichau\\anaconda3\\lib\\site-packages (from tensorboard<2.16,>=2.15->tensorflow-intel==2.15.0->tensorflow) (2.0.3)\n",
      "Collecting cachetools<6.0,>=2.0.0 (from google-auth<3,>=1.6.3->tensorboard<2.16,>=2.15->tensorflow-intel==2.15.0->tensorflow)\n",
      "  Downloading cachetools-5.3.2-py3-none-any.whl (9.3 kB)\n",
      "Requirement already satisfied: pyasn1-modules>=0.2.1 in c:\\users\\pichau\\anaconda3\\lib\\site-packages (from google-auth<3,>=1.6.3->tensorboard<2.16,>=2.15->tensorflow-intel==2.15.0->tensorflow) (0.2.8)\n",
      "Collecting rsa<5,>=3.1.4 (from google-auth<3,>=1.6.3->tensorboard<2.16,>=2.15->tensorflow-intel==2.15.0->tensorflow)\n",
      "  Downloading rsa-4.9-py3-none-any.whl (34 kB)\n",
      "Collecting requests-oauthlib>=0.7.0 (from google-auth-oauthlib<2,>=0.5->tensorboard<2.16,>=2.15->tensorflow-intel==2.15.0->tensorflow)\n",
      "  Downloading requests_oauthlib-1.3.1-py2.py3-none-any.whl (23 kB)\n",
      "Requirement already satisfied: importlib-metadata>=4.4 in c:\\users\\pichau\\anaconda3\\lib\\site-packages (from markdown>=2.6.8->tensorboard<2.16,>=2.15->tensorflow-intel==2.15.0->tensorflow) (6.0.0)\n",
      "Requirement already satisfied: charset-normalizer<4,>=2 in c:\\users\\pichau\\anaconda3\\lib\\site-packages (from requests<3,>=2.21.0->tensorboard<2.16,>=2.15->tensorflow-intel==2.15.0->tensorflow) (2.0.4)\n",
      "Requirement already satisfied: idna<4,>=2.5 in c:\\users\\pichau\\anaconda3\\lib\\site-packages (from requests<3,>=2.21.0->tensorboard<2.16,>=2.15->tensorflow-intel==2.15.0->tensorflow) (3.4)\n",
      "Requirement already satisfied: urllib3<1.27,>=1.21.1 in c:\\users\\pichau\\anaconda3\\lib\\site-packages (from requests<3,>=2.21.0->tensorboard<2.16,>=2.15->tensorflow-intel==2.15.0->tensorflow) (1.26.16)\n",
      "Requirement already satisfied: certifi>=2017.4.17 in c:\\users\\pichau\\anaconda3\\lib\\site-packages (from requests<3,>=2.21.0->tensorboard<2.16,>=2.15->tensorflow-intel==2.15.0->tensorflow) (2023.5.7)\n",
      "Requirement already satisfied: zipp>=0.5 in c:\\users\\pichau\\anaconda3\\lib\\site-packages (from importlib-metadata>=4.4->markdown>=2.6.8->tensorboard<2.16,>=2.15->tensorflow-intel==2.15.0->tensorflow) (3.11.0)\n",
      "Requirement already satisfied: pyasn1<0.5.0,>=0.4.6 in c:\\users\\pichau\\anaconda3\\lib\\site-packages (from pyasn1-modules>=0.2.1->google-auth<3,>=1.6.3->tensorboard<2.16,>=2.15->tensorflow-intel==2.15.0->tensorflow) (0.4.8)\n",
      "Collecting oauthlib>=3.0.0 (from requests-oauthlib>=0.7.0->google-auth-oauthlib<2,>=0.5->tensorboard<2.16,>=2.15->tensorflow-intel==2.15.0->tensorflow)\n",
      "  Downloading oauthlib-3.2.2-py3-none-any.whl (151 kB)\n",
      "                                              0.0/151.7 kB ? eta -:--:--\n",
      "     -------------------------------------- 151.7/151.7 kB 9.4 MB/s eta 0:00:00\n",
      "Installing collected packages: libclang, flatbuffers, termcolor, tensorflow-io-gcs-filesystem, tensorflow-estimator, tensorboard-data-server, rsa, protobuf, opt-einsum, oauthlib, ml-dtypes, keras, grpcio, google-pasta, gast, cachetools, astunparse, absl-py, requests-oauthlib, google-auth, google-auth-oauthlib, tensorboard, tensorflow-intel, tensorflow\n",
      "Successfully installed absl-py-2.1.0 astunparse-1.6.3 cachetools-5.3.2 flatbuffers-23.5.26 gast-0.5.4 google-auth-2.28.1 google-auth-oauthlib-1.2.0 google-pasta-0.2.0 grpcio-1.62.0 keras-2.15.0 libclang-16.0.6 ml-dtypes-0.2.0 oauthlib-3.2.2 opt-einsum-3.3.0 protobuf-4.25.3 requests-oauthlib-1.3.1 rsa-4.9 tensorboard-2.15.2 tensorboard-data-server-0.7.2 tensorflow-2.15.0 tensorflow-estimator-2.15.0 tensorflow-intel-2.15.0 tensorflow-io-gcs-filesystem-0.31.0 termcolor-2.4.0\n",
      "Note: you may need to restart the kernel to use updated packages.\n"
     ]
    }
   ],
   "source": [
    "%pip install tensorflow"
   ]
  },
  {
   "cell_type": "markdown",
   "metadata": {},
   "source": [
    "### **Importando Bibliotecas para a Rede Neural**"
   ]
  },
  {
   "cell_type": "code",
   "execution_count": 123,
   "metadata": {},
   "outputs": [],
   "source": [
    "import tensorflow as tf\n",
    "from tensorflow import keras\n",
    "from tensorflow.keras import layers\n",
    "from sklearn.preprocessing import StandardScaler\n",
    "from sklearn.preprocessing import LabelEncoder"
   ]
  },
  {
   "cell_type": "markdown",
   "metadata": {},
   "source": [
    "### **Pré-Processamento de Dados**"
   ]
  },
  {
   "cell_type": "markdown",
   "metadata": {},
   "source": [
    "### **Convertendo a Veriável de Destino (Target) para Formato Numérico**"
   ]
  },
  {
   "cell_type": "code",
   "execution_count": 124,
   "metadata": {},
   "outputs": [],
   "source": [
    "label_encoder = LabelEncoder()\n",
    "y = label_encoder.fit_transform(y)"
   ]
  },
  {
   "cell_type": "code",
   "execution_count": 125,
   "metadata": {},
   "outputs": [],
   "source": [
    "X_train, X_test, y_train, y_test = train_test_split(X, y, test_size=.3, random_state=42)"
   ]
  },
  {
   "cell_type": "markdown",
   "metadata": {},
   "source": [
    "### **Padronizando os Dados, Processo básico Opcional mas muito Recomendado** "
   ]
  },
  {
   "cell_type": "code",
   "execution_count": 126,
   "metadata": {},
   "outputs": [],
   "source": [
    "scaler = StandardScaler()\n",
    "\n",
    "X_train_scaled = scaler.fit_transform(X_train)\n",
    "X_test_scaled = scaler.fit_transform(X_test)"
   ]
  },
  {
   "cell_type": "markdown",
   "metadata": {},
   "source": [
    "### **Criando o Modelo de Rede Neural**"
   ]
  },
  {
   "cell_type": "code",
   "execution_count": 127,
   "metadata": {},
   "outputs": [],
   "source": [
    "model = tf.keras.Sequential([\n",
    "    layers.Dense(64, activation='relu', input_shape=(X_train.shape[1],)),\n",
    "    layers.Dense(32, activation='relu'), \n",
    "    layers.Dense(1, activation='sigmoid')\n",
    "])"
   ]
  },
  {
   "cell_type": "markdown",
   "metadata": {},
   "source": [
    "### **Compilando o Modelo**"
   ]
  },
  {
   "cell_type": "code",
   "execution_count": 128,
   "metadata": {},
   "outputs": [],
   "source": [
    "model.compile(optimizer='adam', loss='binary_crossentropy', metrics=['accuracy'])"
   ]
  },
  {
   "cell_type": "markdown",
   "metadata": {},
   "source": [
    "### **Treinando o Modelo**"
   ]
  },
  {
   "cell_type": "code",
   "execution_count": 129,
   "metadata": {},
   "outputs": [
    {
     "name": "stdout",
     "output_type": "stream",
     "text": [
      "Epoch 1/10\n",
      "88/88 [==============================] - 1s 2ms/step - loss: 0.5649 - accuracy: 0.7125 - val_loss: 0.4537 - val_accuracy: 0.8200\n",
      "Epoch 2/10\n",
      "88/88 [==============================] - 0s 1ms/step - loss: 0.3990 - accuracy: 0.8204 - val_loss: 0.3613 - val_accuracy: 0.8525\n",
      "Epoch 3/10\n",
      "88/88 [==============================] - 0s 1ms/step - loss: 0.3397 - accuracy: 0.8457 - val_loss: 0.3226 - val_accuracy: 0.8692\n",
      "Epoch 4/10\n",
      "88/88 [==============================] - 0s 1ms/step - loss: 0.3086 - accuracy: 0.8579 - val_loss: 0.3009 - val_accuracy: 0.8842\n",
      "Epoch 5/10\n",
      "88/88 [==============================] - 0s 1ms/step - loss: 0.2905 - accuracy: 0.8686 - val_loss: 0.2885 - val_accuracy: 0.8817\n",
      "Epoch 6/10\n",
      "88/88 [==============================] - 0s 1ms/step - loss: 0.2775 - accuracy: 0.8764 - val_loss: 0.2822 - val_accuracy: 0.8867\n",
      "Epoch 7/10\n",
      "88/88 [==============================] - 0s 1ms/step - loss: 0.2678 - accuracy: 0.8775 - val_loss: 0.2734 - val_accuracy: 0.8917\n",
      "Epoch 8/10\n",
      "88/88 [==============================] - 0s 1ms/step - loss: 0.2583 - accuracy: 0.8861 - val_loss: 0.2711 - val_accuracy: 0.8900\n",
      "Epoch 9/10\n",
      "88/88 [==============================] - 0s 1ms/step - loss: 0.2516 - accuracy: 0.8929 - val_loss: 0.2681 - val_accuracy: 0.8950\n",
      "Epoch 10/10\n",
      "88/88 [==============================] - 0s 1ms/step - loss: 0.2458 - accuracy: 0.8954 - val_loss: 0.2626 - val_accuracy: 0.8892\n"
     ]
    }
   ],
   "source": [
    "history = model.fit(X_train_scaled, y_train, epochs=10, batch_size=32, validation_data=(X_test_scaled, y_test))"
   ]
  },
  {
   "cell_type": "markdown",
   "metadata": {},
   "source": [
    "### **Visualizando Resultados através de Gráficos de Linhas**"
   ]
  },
  {
   "cell_type": "code",
   "execution_count": 130,
   "metadata": {},
   "outputs": [
    {
     "data": {
      "image/png": "[encoded data removed]",
      "text/plain": [
       "<Figure size 640x480 with 1 Axes>"
      ]
     },
     "metadata": {},
     "output_type": "display_data"
    }
   ],
   "source": [
    "plt.title('Análise Visual da Acurácia e da Validação da Acúracia\\n', fontsize=14, fontweight='bold', style='italic')\n",
    "plt.plot(history.history['accuracy'], color='limegreen')\n",
    "plt.plot(history.history['val_accuracy'], color='mediumblue')\n",
    "plt.grid(alpha=0.4)\n",
    "plt.xlabel('Período', fontweight='bold', style='italic')\n",
    "plt.ylabel('Acurácia', fontweight='bold', style='italic')\n",
    "plt.legend(['Acurácia', \"Val_Acurácia\"])\n",
    "plt.show()"
   ]
  },
  {
   "cell_type": "code",
   "execution_count": 131,
   "metadata": {},
   "outputs": [
    {
     "data": {
      "image/png": "[encoded data removed]",
      "text/plain": [
       "<Figure size 640x480 with 1 Axes>"
      ]
     },
     "metadata": {},
     "output_type": "display_data"
    }
   ],
   "source": [
    "plt.title('Análise Visual da Perda/Queda do Aprendizado do Algoritmo\\nQueda e Validação de Queda\\n', fontsize=14, fontweight='bold', style='italic')\n",
    "plt.plot(history.history['loss'], color='limegreen')\n",
    "plt.plot(history.history['val_loss'], color='mediumblue')\n",
    "plt.grid(alpha=0.4)\n",
    "plt.xlabel('Período', fontweight='bold', style='italic')\n",
    "plt.ylabel('Perda/Queda', fontweight='bold', style='italic')\n",
    "plt.legend(['Perda/Queda', 'Val_Perda'])\n",
    "plt.show()"
   ]
  },
  {
   "cell_type": "markdown",
   "metadata": {},
   "source": [
    "### **Avaliando o Modelo**"
   ]
  },
  {
   "cell_type": "code",
   "execution_count": 132,
   "metadata": {},
   "outputs": [
    {
     "name": "stdout",
     "output_type": "stream",
     "text": [
      " 1/38 [..............................] - ETA: 0s - loss: 0.3726 - accuracy: 0.8438"
     ]
    },
    {
     "name": "stdout",
     "output_type": "stream",
     "text": [
      "38/38 [==============================] - 0s 668us/step - loss: 0.2626 - accuracy: 0.8892\n",
      "\n",
      "A Acurácia Final Corresponde a: 88.91666531562805%\n"
     ]
    }
   ],
   "source": [
    "accuracy = model.evaluate(X_test_scaled, y_test)[1]\n",
    "print(f\"\\nA Acurácia Final Corresponde a: {accuracy * 100}%\")"
   ]
  },
  {
   "cell_type": "markdown",
   "metadata": {},
   "source": [
    "## **Acurácia Final do Modelo é Igual a 88.9%**\n",
    "# ***Fim***"
   ]
  }
 ],
 "metadata": {
  "kernelspec": {
   "display_name": "base",
   "language": "python",
   "name": "python3"
  },
  "language_info": {
   "codemirror_mode": {
    "name": "ipython",
    "version": 3
   },
   "file_extension": ".py",
   "mimetype": "text/x-python",
   "name": "python",
   "nbconvert_exporter": "python",
   "pygments_lexer": "ipython3",
   "version": "3.9.13"
  }
 },
 "nbformat": 4,
 "nbformat_minor": 2
}
